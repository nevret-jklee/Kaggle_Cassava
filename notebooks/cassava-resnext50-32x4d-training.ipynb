{
 "cells": [
  {
   "cell_type": "markdown",
   "metadata": {
    "papermill": {
     "duration": 0.018787,
     "end_time": "2021-02-03T07:35:59.442857",
     "exception": false,
     "start_time": "2021-02-03T07:35:59.424070",
     "status": "completed"
    },
    "tags": []
   },
   "source": [
    "- I studied with notebook below. <br>\n",
    "https://www.kaggle.com/yasufuminakama/cassava-resnext50-32x4d-starter-training"
   ]
  },
  {
   "cell_type": "markdown",
   "metadata": {
    "papermill": {
     "duration": 0.016754,
     "end_time": "2021-02-03T07:35:59.476725",
     "exception": false,
     "start_time": "2021-02-03T07:35:59.459971",
     "status": "completed"
    },
    "tags": []
   },
   "source": [
    "## Data Loading"
   ]
  },
  {
   "cell_type": "code",
   "execution_count": 1,
   "metadata": {
    "_cell_guid": "b1076dfc-b9ad-4769-8c92-a6c4dae69d19",
    "_uuid": "8f2839f25d086af736a60e9eeb907d3b93b6e0e5",
    "execution": {
     "iopub.execute_input": "2021-02-03T07:35:59.518908Z",
     "iopub.status.busy": "2021-02-03T07:35:59.518214Z",
     "iopub.status.idle": "2021-02-03T07:36:00.489445Z",
     "shell.execute_reply": "2021-02-03T07:36:00.488942Z"
    },
    "papermill": {
     "duration": 0.99502,
     "end_time": "2021-02-03T07:36:00.489558",
     "exception": false,
     "start_time": "2021-02-03T07:35:59.494538",
     "status": "completed"
    },
    "tags": []
   },
   "outputs": [],
   "source": [
    "import os\n",
    "\n",
    "import pandas as pd\n",
    "\n",
    "from matplotlib import pyplot as plt\n",
    "import seaborn as sns"
   ]
  },
  {
   "cell_type": "code",
   "execution_count": 2,
   "metadata": {
    "execution": {
     "iopub.execute_input": "2021-02-03T07:36:00.528222Z",
     "iopub.status.busy": "2021-02-03T07:36:00.527364Z",
     "iopub.status.idle": "2021-02-03T07:36:00.533919Z",
     "shell.execute_reply": "2021-02-03T07:36:00.534331Z"
    },
    "papermill": {
     "duration": 0.027366,
     "end_time": "2021-02-03T07:36:00.534431",
     "exception": false,
     "start_time": "2021-02-03T07:36:00.507065",
     "status": "completed"
    },
    "tags": []
   },
   "outputs": [
    {
     "data": {
      "text/plain": [
       "['train_tfrecords',\n",
       " 'sample_submission.csv',\n",
       " 'test_tfrecords',\n",
       " 'label_num_to_disease_map.json',\n",
       " 'train_images',\n",
       " 'train.csv',\n",
       " 'test_images']"
      ]
     },
     "execution_count": 2,
     "metadata": {},
     "output_type": "execute_result"
    }
   ],
   "source": [
    "os.listdir('../input/cassava-leaf-disease-classification')"
   ]
  },
  {
   "cell_type": "code",
   "execution_count": 3,
   "metadata": {
    "execution": {
     "iopub.execute_input": "2021-02-03T07:36:00.576782Z",
     "iopub.status.busy": "2021-02-03T07:36:00.576261Z",
     "iopub.status.idle": "2021-02-03T07:36:00.880234Z",
     "shell.execute_reply": "2021-02-03T07:36:00.880766Z"
    },
    "papermill": {
     "duration": 0.32852,
     "end_time": "2021-02-03T07:36:00.880914",
     "exception": false,
     "start_time": "2021-02-03T07:36:00.552394",
     "status": "completed"
    },
    "tags": []
   },
   "outputs": [
    {
     "data": {
      "text/html": [
       "<div>\n",
       "<style scoped>\n",
       "    .dataframe tbody tr th:only-of-type {\n",
       "        vertical-align: middle;\n",
       "    }\n",
       "\n",
       "    .dataframe tbody tr th {\n",
       "        vertical-align: top;\n",
       "    }\n",
       "\n",
       "    .dataframe thead th {\n",
       "        text-align: right;\n",
       "    }\n",
       "</style>\n",
       "<table border=\"1\" class=\"dataframe\">\n",
       "  <thead>\n",
       "    <tr style=\"text-align: right;\">\n",
       "      <th></th>\n",
       "      <th>image_id</th>\n",
       "      <th>label</th>\n",
       "    </tr>\n",
       "  </thead>\n",
       "  <tbody>\n",
       "    <tr>\n",
       "      <th>0</th>\n",
       "      <td>1000015157.jpg</td>\n",
       "      <td>0</td>\n",
       "    </tr>\n",
       "    <tr>\n",
       "      <th>1</th>\n",
       "      <td>1000201771.jpg</td>\n",
       "      <td>3</td>\n",
       "    </tr>\n",
       "    <tr>\n",
       "      <th>2</th>\n",
       "      <td>100042118.jpg</td>\n",
       "      <td>1</td>\n",
       "    </tr>\n",
       "    <tr>\n",
       "      <th>3</th>\n",
       "      <td>1000723321.jpg</td>\n",
       "      <td>1</td>\n",
       "    </tr>\n",
       "    <tr>\n",
       "      <th>4</th>\n",
       "      <td>1000812911.jpg</td>\n",
       "      <td>3</td>\n",
       "    </tr>\n",
       "  </tbody>\n",
       "</table>\n",
       "</div>"
      ],
      "text/plain": [
       "         image_id  label\n",
       "0  1000015157.jpg      0\n",
       "1  1000201771.jpg      3\n",
       "2   100042118.jpg      1\n",
       "3  1000723321.jpg      1\n",
       "4  1000812911.jpg      3"
      ]
     },
     "metadata": {},
     "output_type": "display_data"
    },
    {
     "data": {
      "text/html": [
       "<div>\n",
       "<style scoped>\n",
       "    .dataframe tbody tr th:only-of-type {\n",
       "        vertical-align: middle;\n",
       "    }\n",
       "\n",
       "    .dataframe tbody tr th {\n",
       "        vertical-align: top;\n",
       "    }\n",
       "\n",
       "    .dataframe thead th {\n",
       "        text-align: right;\n",
       "    }\n",
       "</style>\n",
       "<table border=\"1\" class=\"dataframe\">\n",
       "  <thead>\n",
       "    <tr style=\"text-align: right;\">\n",
       "      <th></th>\n",
       "      <th>image_id</th>\n",
       "      <th>label</th>\n",
       "    </tr>\n",
       "  </thead>\n",
       "  <tbody>\n",
       "    <tr>\n",
       "      <th>0</th>\n",
       "      <td>2216849948.jpg</td>\n",
       "      <td>4</td>\n",
       "    </tr>\n",
       "  </tbody>\n",
       "</table>\n",
       "</div>"
      ],
      "text/plain": [
       "         image_id  label\n",
       "0  2216849948.jpg      4"
      ]
     },
     "metadata": {},
     "output_type": "display_data"
    },
    {
     "data": {
      "text/html": [
       "<div>\n",
       "<style scoped>\n",
       "    .dataframe tbody tr th:only-of-type {\n",
       "        vertical-align: middle;\n",
       "    }\n",
       "\n",
       "    .dataframe tbody tr th {\n",
       "        vertical-align: top;\n",
       "    }\n",
       "\n",
       "    .dataframe thead th {\n",
       "        text-align: right;\n",
       "    }\n",
       "</style>\n",
       "<table border=\"1\" class=\"dataframe\">\n",
       "  <thead>\n",
       "    <tr style=\"text-align: right;\">\n",
       "      <th></th>\n",
       "      <th>0</th>\n",
       "    </tr>\n",
       "  </thead>\n",
       "  <tbody>\n",
       "    <tr>\n",
       "      <th>0</th>\n",
       "      <td>Cassava Bacterial Blight (CBB)</td>\n",
       "    </tr>\n",
       "    <tr>\n",
       "      <th>1</th>\n",
       "      <td>Cassava Brown Streak Disease (CBSD)</td>\n",
       "    </tr>\n",
       "    <tr>\n",
       "      <th>2</th>\n",
       "      <td>Cassava Green Mottle (CGM)</td>\n",
       "    </tr>\n",
       "    <tr>\n",
       "      <th>3</th>\n",
       "      <td>Cassava Mosaic Disease (CMD)</td>\n",
       "    </tr>\n",
       "    <tr>\n",
       "      <th>4</th>\n",
       "      <td>Healthy</td>\n",
       "    </tr>\n",
       "  </tbody>\n",
       "</table>\n",
       "</div>"
      ],
      "text/plain": [
       "                                     0\n",
       "0       Cassava Bacterial Blight (CBB)\n",
       "1  Cassava Brown Streak Disease (CBSD)\n",
       "2           Cassava Green Mottle (CGM)\n",
       "3         Cassava Mosaic Disease (CMD)\n",
       "4                              Healthy"
      ]
     },
     "metadata": {},
     "output_type": "display_data"
    }
   ],
   "source": [
    "train = pd.read_csv('../input/cassava-leaf-disease-classification/train.csv')\n",
    "test = pd.read_csv('../input/cassava-leaf-disease-classification/sample_submission.csv')\n",
    "label_map = pd.read_json('../input/cassava-leaf-disease-classification/label_num_to_disease_map.json', orient='index')\n",
    "\n",
    "display(train.head())\n",
    "display(test.head())\n",
    "display(label_map)"
   ]
  },
  {
   "cell_type": "code",
   "execution_count": 4,
   "metadata": {
    "execution": {
     "iopub.execute_input": "2021-02-03T07:36:00.924270Z",
     "iopub.status.busy": "2021-02-03T07:36:00.923667Z",
     "iopub.status.idle": "2021-02-03T07:36:01.187972Z",
     "shell.execute_reply": "2021-02-03T07:36:01.187137Z"
    },
    "papermill": {
     "duration": 0.287413,
     "end_time": "2021-02-03T07:36:01.188073",
     "exception": false,
     "start_time": "2021-02-03T07:36:00.900660",
     "status": "completed"
    },
    "tags": []
   },
   "outputs": [
    {
     "data": {
      "text/plain": [
       "<matplotlib.axes._subplots.AxesSubplot at 0x7f661db2a190>"
      ]
     },
     "execution_count": 4,
     "metadata": {},
     "output_type": "execute_result"
    },
    {
     "data": {
      "image/png": "[encoded data removed]",
      "text/plain": [
       "<Figure size 432x288 with 1 Axes>"
      ]
     },
     "metadata": {
      "needs_background": "light"
     },
     "output_type": "display_data"
    }
   ],
   "source": [
    "sns.distplot(train['label'], kde=False)"
   ]
  },
  {
   "cell_type": "markdown",
   "metadata": {
    "papermill": {
     "duration": 0.020856,
     "end_time": "2021-02-03T07:36:01.230709",
     "exception": false,
     "start_time": "2021-02-03T07:36:01.209853",
     "status": "completed"
    },
    "tags": []
   },
   "source": [
    "## Directory Settings"
   ]
  },
  {
   "cell_type": "code",
   "execution_count": 5,
   "metadata": {
    "execution": {
     "iopub.execute_input": "2021-02-03T07:36:01.275332Z",
     "iopub.status.busy": "2021-02-03T07:36:01.274640Z",
     "iopub.status.idle": "2021-02-03T07:36:01.277443Z",
     "shell.execute_reply": "2021-02-03T07:36:01.277042Z"
    },
    "papermill": {
     "duration": 0.027055,
     "end_time": "2021-02-03T07:36:01.277528",
     "exception": false,
     "start_time": "2021-02-03T07:36:01.250473",
     "status": "completed"
    },
    "tags": []
   },
   "outputs": [],
   "source": [
    "# ====================================================\n",
    "# Directory settings\n",
    "# ====================================================\n",
    "import os\n",
    "\n",
    "OUTPUT_DIR = './'\n",
    "if not os.path.exists(OUTPUT_DIR):\n",
    "    os.makedirs(OUTPUT_DIR)\n",
    "    \n",
    "TRAIN_PATH = '../input/cassava-leaf-disease-classification/train_images'\n",
    "TEST_PATH = '../input/cassava-leaf-disease-classification/test_images'"
   ]
  },
  {
   "cell_type": "markdown",
   "metadata": {
    "_cell_guid": "79c7e3d0-c299-4dcb-8224-4455121ee9b0",
    "_uuid": "d629ff2d2480ee46fbb7e2d37f6b5fab8052498a",
    "collapsed": true,
    "papermill": {
     "duration": 0.019908,
     "end_time": "2021-02-03T07:36:01.317526",
     "exception": false,
     "start_time": "2021-02-03T07:36:01.297618",
     "status": "completed"
    },
    "tags": []
   },
   "source": [
    "## CFG"
   ]
  },
  {
   "cell_type": "code",
   "execution_count": 6,
   "metadata": {
    "execution": {
     "iopub.execute_input": "2021-02-03T07:36:01.367402Z",
     "iopub.status.busy": "2021-02-03T07:36:01.366656Z",
     "iopub.status.idle": "2021-02-03T07:36:01.369263Z",
     "shell.execute_reply": "2021-02-03T07:36:01.368863Z"
    },
    "papermill": {
     "duration": 0.031556,
     "end_time": "2021-02-03T07:36:01.369346",
     "exception": false,
     "start_time": "2021-02-03T07:36:01.337790",
     "status": "completed"
    },
    "tags": []
   },
   "outputs": [],
   "source": [
    "# ====================================================\n",
    "# CFG\n",
    "# ====================================================\n",
    "class CFG:\n",
    "    debug=False\n",
    "    apex=False\n",
    "    print_freq=100\n",
    "    num_workers=4\n",
    "    model_name='resnext50_32x4d'\n",
    "    size=256\n",
    "    scheduler='CosineAnnealingWarmRestarts' # ['ReduceLROnPlateau', 'CosineAnnealingLR', 'CosineAnnealingWarmRestarts']\n",
    "    epochs=10\n",
    "    #factor=0.2 # ReduceLROnPlateau\n",
    "    #patience=4 # ReduceLROnPlateau\n",
    "    #eps=1e-6 # ReduceLROnPlateau\n",
    "    #T_max=10 # CosineAnnealingLR\n",
    "    T_0=10 # CosineAnnealingWarmRestarts\n",
    "    lr=1e-4\n",
    "    min_lr=1e-6\n",
    "    batch_size=32\n",
    "    weight_decay=1e-6\n",
    "    gradient_accumulation_steps=1\n",
    "    max_grad_norm=1000\n",
    "    seed=42\n",
    "    target_size=5\n",
    "    target_col='label'\n",
    "    n_fold=5\n",
    "    trn_fold=[0, 1, 2, 3, 4]\n",
    "    train=True\n",
    "    inference=False\n",
    "    \n",
    "if CFG.debug:\n",
    "    CFG.epochs = 1\n",
    "    train = train.sample(n=1000, random_state=CFG.seed).reset_index(drop=True)"
   ]
  },
  {
   "cell_type": "markdown",
   "metadata": {
    "papermill": {
     "duration": 0.02012,
     "end_time": "2021-02-03T07:36:01.409479",
     "exception": false,
     "start_time": "2021-02-03T07:36:01.389359",
     "status": "completed"
    },
    "tags": []
   },
   "source": [
    "## Library"
   ]
  },
  {
   "cell_type": "code",
   "execution_count": 7,
   "metadata": {
    "execution": {
     "iopub.execute_input": "2021-02-03T07:36:01.454359Z",
     "iopub.status.busy": "2021-02-03T07:36:01.453516Z",
     "iopub.status.idle": "2021-02-03T07:36:10.682890Z",
     "shell.execute_reply": "2021-02-03T07:36:10.682351Z"
    },
    "papermill": {
     "duration": 9.25335,
     "end_time": "2021-02-03T07:36:10.683000",
     "exception": false,
     "start_time": "2021-02-03T07:36:01.429650",
     "status": "completed"
    },
    "tags": []
   },
   "outputs": [
    {
     "name": "stdout",
     "output_type": "stream",
     "text": [
      "Collecting timm\r\n",
      "  Downloading timm-0.3.4-py3-none-any.whl (244 kB)\r\n",
      "\u001b[K     |████████████████████████████████| 244 kB 866 kB/s \r\n",
      "\u001b[?25hRequirement already satisfied: torch>=1.4 in /opt/conda/lib/python3.7/site-packages (from timm) (1.7.0)\r\n",
      "Requirement already satisfied: torchvision in /opt/conda/lib/python3.7/site-packages (from timm) (0.8.1)\r\n",
      "Requirement already satisfied: future in /opt/conda/lib/python3.7/site-packages (from torch>=1.4->timm) (0.18.2)\r\n",
      "Requirement already satisfied: typing_extensions in /opt/conda/lib/python3.7/site-packages (from torch>=1.4->timm) (3.7.4.1)\r\n",
      "Requirement already satisfied: dataclasses in /opt/conda/lib/python3.7/site-packages (from torch>=1.4->timm) (0.6)\r\n",
      "Requirement already satisfied: numpy in /opt/conda/lib/python3.7/site-packages (from torch>=1.4->timm) (1.18.5)\r\n",
      "Requirement already satisfied: numpy in /opt/conda/lib/python3.7/site-packages (from torch>=1.4->timm) (1.18.5)\r\n",
      "Requirement already satisfied: torch>=1.4 in /opt/conda/lib/python3.7/site-packages (from timm) (1.7.0)\r\n",
      "Requirement already satisfied: pillow>=4.1.1 in /opt/conda/lib/python3.7/site-packages (from torchvision->timm) (8.0.1)\r\n",
      "Installing collected packages: timm\r\n",
      "Successfully installed timm-0.3.4\r\n",
      "\u001b[33mWARNING: You are using pip version 20.3.1; however, version 21.0.1 is available.\r\n",
      "You should consider upgrading via the '/opt/conda/bin/python3.7 -m pip install --upgrade pip' command.\u001b[0m\r\n"
     ]
    }
   ],
   "source": [
    "!pip install timm"
   ]
  },
  {
   "cell_type": "code",
   "execution_count": 8,
   "metadata": {
    "execution": {
     "iopub.execute_input": "2021-02-03T07:36:10.829664Z",
     "iopub.status.busy": "2021-02-03T07:36:10.828261Z",
     "iopub.status.idle": "2021-02-03T07:36:13.958951Z",
     "shell.execute_reply": "2021-02-03T07:36:13.958103Z"
    },
    "papermill": {
     "duration": 3.252371,
     "end_time": "2021-02-03T07:36:13.959066",
     "exception": false,
     "start_time": "2021-02-03T07:36:10.706695",
     "status": "completed"
    },
    "tags": []
   },
   "outputs": [],
   "source": [
    "# ====================================================\n",
    "# Library\n",
    "# ====================================================\n",
    "import sys\n",
    "sys.path.append('../input/pytorch-image-models/pytorch-image-models-master')\n",
    "\n",
    "import os\n",
    "import math\n",
    "import time\n",
    "import random\n",
    "import shutil\n",
    "from pathlib import Path\n",
    "from contextlib import contextmanager\n",
    "from collections import defaultdict, Counter\n",
    "\n",
    "import scipy as sp\n",
    "import numpy as np\n",
    "import pandas as pd\n",
    "\n",
    "from sklearn import preprocessing\n",
    "from sklearn.metrics import accuracy_score\n",
    "from sklearn.model_selection import StratifiedKFold\n",
    "\n",
    "from tqdm.auto import tqdm\n",
    "from functools import partial\n",
    "\n",
    "import cv2\n",
    "from PIL import Image\n",
    "\n",
    "import torch\n",
    "import torch.nn as nn\n",
    "import torch.nn.functional as F\n",
    "from torch.optim import Adam, SGD\n",
    "import torchvision.models as models\n",
    "from torch.nn.parameter import Parameter\n",
    "from torch.utils.data import DataLoader, Dataset\n",
    "from torch.optim.lr_scheduler import CosineAnnealingWarmRestarts, CosineAnnealingLR, ReduceLROnPlateau\n",
    "\n",
    "from albumentations import (\n",
    "    HorizontalFlip, VerticalFlip, IAAPerspective, ShiftScaleRotate, CLAHE, RandomRotate90,\n",
    "    Transpose, ShiftScaleRotate, Blur, OpticalDistortion, GridDistortion, HueSaturationValue,\n",
    "    IAAAdditiveGaussianNoise, GaussNoise, MotionBlur, MedianBlur, IAAPiecewiseAffine, RandomResizedCrop,\n",
    "    IAASharpen, IAAEmboss, RandomBrightnessContrast, Flip, OneOf, Compose, Normalize, Cutout, CoarseDropout, ShiftScaleRotate, CenterCrop, Resize\n",
    ")\n",
    "    \n",
    "from albumentations.pytorch import ToTensorV2\n",
    "\n",
    "from albumentations import ImageOnlyTransform\n",
    "\n",
    "import timm\n",
    "\n",
    "import warnings \n",
    "warnings.filterwarnings('ignore')\n",
    "\n",
    "if CFG.apex:\n",
    "    from apex import amp\n",
    "\n",
    "    \n",
    "\n",
    "device = torch.device('cuda' if torch.cuda.is_available() else 'cpu')"
   ]
  },
  {
   "cell_type": "markdown",
   "metadata": {
    "papermill": {
     "duration": 0.022712,
     "end_time": "2021-02-03T07:36:14.005067",
     "exception": false,
     "start_time": "2021-02-03T07:36:13.982355",
     "status": "completed"
    },
    "tags": []
   },
   "source": [
    "## Utils"
   ]
  },
  {
   "cell_type": "code",
   "execution_count": 9,
   "metadata": {
    "execution": {
     "iopub.execute_input": "2021-02-03T07:36:14.063114Z",
     "iopub.status.busy": "2021-02-03T07:36:14.062536Z",
     "iopub.status.idle": "2021-02-03T07:36:14.069241Z",
     "shell.execute_reply": "2021-02-03T07:36:14.068782Z"
    },
    "papermill": {
     "duration": 0.041487,
     "end_time": "2021-02-03T07:36:14.069329",
     "exception": false,
     "start_time": "2021-02-03T07:36:14.027842",
     "status": "completed"
    },
    "tags": []
   },
   "outputs": [],
   "source": [
    "# ====================================================\n",
    "# Utils\n",
    "# ====================================================\n",
    "def get_score(y_true, y_pred):\n",
    "    return accuracy_score(y_true, y_pred)\n",
    "\n",
    "@contextmanager\n",
    "def timer(name):\n",
    "    t0 = time.time()\n",
    "    LOGGER.info(f'[{name}] start')\n",
    "    yield\n",
    "    LOGGER.info(f'[{name}] done in {time.time() - t0:.0f} s.')\n",
    "    \n",
    "def init_logger(log_file=OUTPUT_DIR+'train.log'):\n",
    "    from logging import getLogger, INFO, FileHandler,  Formatter,  StreamHandler\n",
    "    logger = getLogger(__name__)\n",
    "    logger.setLevel(INFO)\n",
    "    handler1 = StreamHandler()\n",
    "    handler1.setFormatter(Formatter(\"%(message)s\"))\n",
    "    handler2 = FileHandler(filename=log_file)\n",
    "    handler2.setFormatter(Formatter(\"%(message)s\"))\n",
    "    logger.addHandler(handler1)\n",
    "    logger.addHandler(handler2)\n",
    "    return logger\n",
    "\n",
    "LOGGER = init_logger()\n",
    "\n",
    "def seed_torch(seed=42):\n",
    "    random.seed(seed)\n",
    "    os.environ['PYTHONHASHSEED'] = str(seed)\n",
    "    np.random.seed(seed)\n",
    "    torch.manual_seed(seed)\n",
    "    torch.cuda.manual_seed(seed)\n",
    "    torch.backends.cudnn.deterministic = True\n",
    "\n",
    "seed_torch(seed=CFG.seed)"
   ]
  },
  {
   "cell_type": "markdown",
   "metadata": {
    "papermill": {
     "duration": 0.022615,
     "end_time": "2021-02-03T07:36:14.114838",
     "exception": false,
     "start_time": "2021-02-03T07:36:14.092223",
     "status": "completed"
    },
    "tags": []
   },
   "source": [
    "## CV split"
   ]
  },
  {
   "cell_type": "code",
   "execution_count": 10,
   "metadata": {
    "execution": {
     "iopub.execute_input": "2021-02-03T07:36:14.169719Z",
     "iopub.status.busy": "2021-02-03T07:36:14.169206Z",
     "iopub.status.idle": "2021-02-03T07:36:14.189019Z",
     "shell.execute_reply": "2021-02-03T07:36:14.188519Z"
    },
    "papermill": {
     "duration": 0.0514,
     "end_time": "2021-02-03T07:36:14.189112",
     "exception": false,
     "start_time": "2021-02-03T07:36:14.137712",
     "status": "completed"
    },
    "tags": []
   },
   "outputs": [
    {
     "name": "stdout",
     "output_type": "stream",
     "text": [
      "fold  label\n",
      "0     0         218\n",
      "      1         438\n",
      "      2         477\n",
      "      3        2631\n",
      "      4         516\n",
      "1     0         218\n",
      "      1         438\n",
      "      2         477\n",
      "      3        2631\n",
      "      4         516\n",
      "2     0         217\n",
      "      1         438\n",
      "      2         477\n",
      "      3        2632\n",
      "      4         515\n",
      "3     0         217\n",
      "      1         438\n",
      "      2         477\n",
      "      3        2632\n",
      "      4         515\n",
      "4     0         217\n",
      "      1         437\n",
      "      2         478\n",
      "      3        2632\n",
      "      4         515\n",
      "dtype: int64\n"
     ]
    }
   ],
   "source": [
    "folds = train.copy()\n",
    "Fold = StratifiedKFold(n_splits=CFG.n_fold, shuffle=True, random_state=CFG.seed)\n",
    "\n",
    "for n, (train_index, val_index) in enumerate(Fold.split(folds, folds[CFG.target_col])):\n",
    "    folds.loc[val_index, 'fold'] = int(n)\n",
    "    \n",
    "folds['fold'] = folds['fold'].astype(int)\n",
    "print(folds.groupby(['fold', CFG.target_col]).size())"
   ]
  },
  {
   "cell_type": "markdown",
   "metadata": {
    "papermill": {
     "duration": 0.025286,
     "end_time": "2021-02-03T07:36:14.238949",
     "exception": false,
     "start_time": "2021-02-03T07:36:14.213663",
     "status": "completed"
    },
    "tags": []
   },
   "source": [
    "## Dataset"
   ]
  },
  {
   "cell_type": "code",
   "execution_count": 11,
   "metadata": {
    "execution": {
     "iopub.execute_input": "2021-02-03T07:36:14.306560Z",
     "iopub.status.busy": "2021-02-03T07:36:14.305687Z",
     "iopub.status.idle": "2021-02-03T07:36:14.307492Z",
     "shell.execute_reply": "2021-02-03T07:36:14.307914Z"
    },
    "papermill": {
     "duration": 0.044232,
     "end_time": "2021-02-03T07:36:14.308031",
     "exception": false,
     "start_time": "2021-02-03T07:36:14.263799",
     "status": "completed"
    },
    "tags": []
   },
   "outputs": [],
   "source": [
    "# ====================================================\n",
    "# Dataset\n",
    "# ====================================================\n",
    "class TrainDataset(Dataset):\n",
    "    def __init__(self, df, transform=None):\n",
    "        self.df = df\n",
    "        self.file_names = df['image_id'].values\n",
    "        self.labels = df['label'].values\n",
    "        self.transform = transform\n",
    "        \n",
    "    def __len__(self):\n",
    "        return len(self.df)\n",
    "    \n",
    "    def __getitem__(self, idx):\n",
    "        file_name = self.file_names[idx]\n",
    "        file_path = f'{TRAIN_PATH}/{file_name}'\n",
    "        image = cv2.imread(file_path)\n",
    "        image = cv2.cvtColor(image, cv2.COLOR_BGR2RGB)\n",
    "        '''\n",
    "        그림BGR = cv2.imread(\"그림파일.jpg\")\n",
    "        그림RGB = cv2.cvtColor(그림BGR, cv2.COLOR_BGR2RGB)\n",
    "        '''\n",
    "        \n",
    "        if self.transform:\n",
    "            augmented = self.transform(image=image)\n",
    "            image = augmented['image']\n",
    "        label = torch.tensor(self.labels[idx]).long()\n",
    "        \n",
    "        return image, label\n",
    "    \n",
    "    \n",
    "class TestDataset(Dataset):\n",
    "    def __init__(self, df, transform=None):\n",
    "        self.df = df\n",
    "        self.file_names = df['image_id'].values\n",
    "        self.transform = transform\n",
    "        \n",
    "    def __len__(self):    \n",
    "        return len(self.df)\n",
    "    \n",
    "    def __getitem__(self, idx):\n",
    "        file_name = self.file_names[idx]\n",
    "        file_path = f'{TEST_PATH}/{file_name}'\n",
    "        image = cv2.imread(file_path)\n",
    "        image = cv2.cvtColor(image, cv2.COLOR_BGR2RGB)\n",
    "        \n",
    "        if self.transform:\n",
    "            augmented = self.transform(image=image)\n",
    "            image = augmented['image']\n",
    "            \n",
    "        return image"
   ]
  },
  {
   "cell_type": "code",
   "execution_count": 12,
   "metadata": {
    "execution": {
     "iopub.execute_input": "2021-02-03T07:36:14.364341Z",
     "iopub.status.busy": "2021-02-03T07:36:14.363834Z",
     "iopub.status.idle": "2021-02-03T07:36:14.642165Z",
     "shell.execute_reply": "2021-02-03T07:36:14.642590Z"
    },
    "papermill": {
     "duration": 0.309341,
     "end_time": "2021-02-03T07:36:14.642708",
     "exception": false,
     "start_time": "2021-02-03T07:36:14.333367",
     "status": "completed"
    },
    "tags": []
   },
   "outputs": [
    {
     "data": {
      "image/png": "[encoded data removed]",
      "text/plain": [
       "<Figure size 432x288 with 1 Axes>"
      ]
     },
     "metadata": {
      "needs_background": "light"
     },
     "output_type": "display_data"
    }
   ],
   "source": [
    "train_dataset = TrainDataset(train, transform=None)\n",
    "\n",
    "for i in range(1):\n",
    "    image, label = train_dataset[i]\n",
    "    plt.imshow(image)\n",
    "    plt.title(f'label: {label}')\n",
    "    plt.show()"
   ]
  },
  {
   "cell_type": "markdown",
   "metadata": {
    "papermill": {
     "duration": 0.028639,
     "end_time": "2021-02-03T07:36:14.733147",
     "exception": false,
     "start_time": "2021-02-03T07:36:14.704508",
     "status": "completed"
    },
    "tags": []
   },
   "source": [
    "## Transforms"
   ]
  },
  {
   "cell_type": "markdown",
   "metadata": {
    "papermill": {
     "duration": 0.029336,
     "end_time": "2021-02-03T07:36:14.791122",
     "exception": false,
     "start_time": "2021-02-03T07:36:14.761786",
     "status": "completed"
    },
    "tags": []
   },
   "source": [
    "> Question\n",
    "\n",
    "how did you get the values of Normalize(mean=[…], std=[…])?\n",
    "\n",
    "> Answer\n",
    "\n",
    "You have to iterate over the dataset calculating the mean and the std.\n",
    "\n",
    "For simplicity we will do this with a example batch. First you have to transform your batch of images with size [b_size, channels, x, y] into [b_size, channels, x*y], like flattening the image. Then you calculate the mean value of each image and when you have those values you add them along the b_size axis. If you do that you will get the mean value of each channel in the batch. Knowing this you have to change it to do over the whole dataset.\n",
    "\n",
    "If you do the same but using std you get the std of each channel."
   ]
  },
  {
   "cell_type": "code",
   "execution_count": 13,
   "metadata": {
    "execution": {
     "iopub.execute_input": "2021-02-03T07:36:14.858354Z",
     "iopub.status.busy": "2021-02-03T07:36:14.857497Z",
     "iopub.status.idle": "2021-02-03T07:36:14.859881Z",
     "shell.execute_reply": "2021-02-03T07:36:14.860333Z"
    },
    "papermill": {
     "duration": 0.040935,
     "end_time": "2021-02-03T07:36:14.860437",
     "exception": false,
     "start_time": "2021-02-03T07:36:14.819502",
     "status": "completed"
    },
    "tags": []
   },
   "outputs": [],
   "source": [
    "# ====================================================\n",
    "# Transforms\n",
    "# ====================================================\n",
    "def get_transforms(*, data):\n",
    "    if data == 'train':\n",
    "        return Compose([\n",
    "            #Resize(CFG.size, CFG.size),\n",
    "            RandomResizedCrop(CFG.size, CFG.size),\n",
    "            Transpose(p=0.5),\n",
    "            HorizontalFlip(p=0.5),\n",
    "            VerticalFlip(p=0.5),\n",
    "            ShiftScaleRotate(p=0.5),\n",
    "            HueSaturationValue(hue_shift_limit=0.2, sat_shift_limit=0.2, val_shift_limit=0.2, p=0.5),\n",
    "            RandomBrightnessContrast(brightness_limit=(-0.1,0.1), contrast_limit=(-0.1, 0.1), p=0.5),\n",
    "            Normalize(\n",
    "                mean=[0.485, 0.456, 0.406],\n",
    "                std=[0.229, 0.224, 0.225],\n",
    "            ),\n",
    "            CoarseDropout(p=0.5),\n",
    "            Cutout(p=0.5),\n",
    "            ToTensorV2(),\n",
    "        ])\n",
    "    \n",
    "    elif data == 'valid':\n",
    "        return Compose([\n",
    "            Resize(CFG.size, CFG.size),\n",
    "            Normalize(\n",
    "                mean=[0.485, 0.456, 0.406],\n",
    "                std=[0.229, 0.224, 0.225],\n",
    "            ),\n",
    "            ToTensorV2(),\n",
    "        ])"
   ]
  },
  {
   "cell_type": "code",
   "execution_count": 14,
   "metadata": {
    "execution": {
     "iopub.execute_input": "2021-02-03T07:36:14.922198Z",
     "iopub.status.busy": "2021-02-03T07:36:14.921423Z",
     "iopub.status.idle": "2021-02-03T07:36:15.104139Z",
     "shell.execute_reply": "2021-02-03T07:36:15.103688Z"
    },
    "papermill": {
     "duration": 0.215889,
     "end_time": "2021-02-03T07:36:15.104240",
     "exception": false,
     "start_time": "2021-02-03T07:36:14.888351",
     "status": "completed"
    },
    "tags": []
   },
   "outputs": [
    {
     "data": {
      "image/png": "[encoded data removed]",
      "text/plain": [
       "<Figure size 432x288 with 1 Axes>"
      ]
     },
     "metadata": {
      "needs_background": "light"
     },
     "output_type": "display_data"
    }
   ],
   "source": [
    "train_dataset = TrainDataset(train, transform = get_transforms(data='train'))\n",
    "\n",
    "for i in range(1):\n",
    "    image, label = train_dataset[i]\n",
    "    plt.imshow(image[0])\n",
    "    plt.title(f'label: {label}')\n",
    "    plt.show()"
   ]
  },
  {
   "cell_type": "markdown",
   "metadata": {
    "papermill": {
     "duration": 0.030755,
     "end_time": "2021-02-03T07:36:15.166546",
     "exception": false,
     "start_time": "2021-02-03T07:36:15.135791",
     "status": "completed"
    },
    "tags": []
   },
   "source": [
    "## Model"
   ]
  },
  {
   "cell_type": "code",
   "execution_count": 15,
   "metadata": {
    "execution": {
     "iopub.execute_input": "2021-02-03T07:36:15.237015Z",
     "iopub.status.busy": "2021-02-03T07:36:15.235312Z",
     "iopub.status.idle": "2021-02-03T07:36:15.237607Z",
     "shell.execute_reply": "2021-02-03T07:36:15.238047Z"
    },
    "papermill": {
     "duration": 0.040712,
     "end_time": "2021-02-03T07:36:15.238157",
     "exception": false,
     "start_time": "2021-02-03T07:36:15.197445",
     "status": "completed"
    },
    "tags": []
   },
   "outputs": [],
   "source": [
    "# ====================================================\n",
    "# MODEL\n",
    "# ====================================================\n",
    "class CustomResNext(nn.Module):\n",
    "    def __init__(self, model_name='resnext50_32x4d', pretrained=False):\n",
    "        super().__init__()\n",
    "        self.model = timm.create_model(model_name, pretrained=pretrained)\n",
    "        n_features = self.model.fc.in_features\n",
    "        self.model.fc = nn.Linear(n_features, CFG.target_size)\n",
    "\n",
    "    def forward(self, x):\n",
    "        x = self.model(x)\n",
    "        \n",
    "        return x"
   ]
  },
  {
   "cell_type": "code",
   "execution_count": 16,
   "metadata": {
    "execution": {
     "iopub.execute_input": "2021-02-03T07:36:15.311527Z",
     "iopub.status.busy": "2021-02-03T07:36:15.310913Z",
     "iopub.status.idle": "2021-02-03T07:36:22.078600Z",
     "shell.execute_reply": "2021-02-03T07:36:22.078159Z"
    },
    "papermill": {
     "duration": 6.80936,
     "end_time": "2021-02-03T07:36:22.078701",
     "exception": false,
     "start_time": "2021-02-03T07:36:15.269341",
     "status": "completed"
    },
    "tags": []
   },
   "outputs": [
    {
     "name": "stdout",
     "output_type": "stream",
     "text": [
      "tensor([[ 0.1924,  0.0310,  0.0261,  0.2754, -0.1179],\n",
      "        [ 0.1809,  0.1283,  0.0761,  0.7103,  0.1158],\n",
      "        [ 0.0869,  0.1180,  0.0543,  0.4261,  0.0353],\n",
      "        [ 0.0742, -0.0484,  0.1194,  0.4222,  0.1329]],\n",
      "       grad_fn=<AddmmBackward>)\n"
     ]
    }
   ],
   "source": [
    "# MODEL\n",
    "model = CustomResNext(model_name=CFG.model_name, pretrained=False)\n",
    "\n",
    "# DATASET\n",
    "train_dataset = TrainDataset(train, transform=get_transforms(data='train'))\n",
    "\n",
    "# DATALOADER\n",
    "train_loader = DataLoader(train_dataset, batch_size=4, shuffle=True,\n",
    "                          num_workers=4, pin_memory=True, drop_last=True)\n",
    "\n",
    "for image, label in train_loader:\n",
    "    output = model(image)\n",
    "    print(output)\n",
    "    break"
   ]
  },
  {
   "cell_type": "markdown",
   "metadata": {
    "papermill": {
     "duration": 0.031688,
     "end_time": "2021-02-03T07:36:22.142692",
     "exception": false,
     "start_time": "2021-02-03T07:36:22.111004",
     "status": "completed"
    },
    "tags": []
   },
   "source": [
    "## Helper functions"
   ]
  },
  {
   "cell_type": "code",
   "execution_count": 17,
   "metadata": {
    "execution": {
     "iopub.execute_input": "2021-02-03T07:36:22.246359Z",
     "iopub.status.busy": "2021-02-03T07:36:22.244360Z",
     "iopub.status.idle": "2021-02-03T07:36:22.246964Z",
     "shell.execute_reply": "2021-02-03T07:36:22.247384Z"
    },
    "papermill": {
     "duration": 0.07288,
     "end_time": "2021-02-03T07:36:22.247502",
     "exception": false,
     "start_time": "2021-02-03T07:36:22.174622",
     "status": "completed"
    },
    "tags": []
   },
   "outputs": [],
   "source": [
    "# ====================================================\n",
    "# Helper functions\n",
    "# ====================================================\n",
    "class AverageMeter(object):\n",
    "    \"\"\"Computes and stores the average and current value\"\"\"\n",
    "    def __init__(self):\n",
    "        self.reset()\n",
    "\n",
    "    def reset(self):\n",
    "        self.val = 0\n",
    "        self.avg = 0\n",
    "        self.sum = 0\n",
    "        self.count = 0\n",
    "\n",
    "    def update(self, val, n=1):\n",
    "        self.val = val\n",
    "        self.sum += val * n\n",
    "        self.count += n\n",
    "        self.avg = self.sum / self.count\n",
    "\n",
    "\n",
    "def asMinutes(s):\n",
    "    m = math.floor(s / 60)\n",
    "    s -= m * 60\n",
    "    return '%dm %ds' % (m, s)\n",
    "\n",
    "\n",
    "def timeSince(since, percent):\n",
    "    now = time.time()\n",
    "    s = now - since\n",
    "    es = s / (percent)\n",
    "    rs = es - s\n",
    "    return '%s (remain %s)' % (asMinutes(s), asMinutes(rs))\n",
    "\n",
    "\n",
    "def train_fn(train_loader, model, criterion, optimizer, epoch, scheduler, device):\n",
    "    batch_time = AverageMeter()\n",
    "    data_time = AverageMeter()\n",
    "    losses = AverageMeter()\n",
    "    scores = AverageMeter()\n",
    "    # switch to train mode\n",
    "    model.train()\n",
    "    start = end = time.time()\n",
    "    global_step = 0\n",
    "    for step, (images, labels) in enumerate(train_loader):\n",
    "        # measure data loading time\n",
    "        data_time.update(time.time() - end)\n",
    "        images = images.to(device)\n",
    "        labels = labels.to(device)\n",
    "        batch_size = labels.size(0)\n",
    "        y_preds = model(images)\n",
    "        loss = criterion(y_preds, labels)\n",
    "        # record loss\n",
    "        losses.update(loss.item(), batch_size)\n",
    "        if CFG.gradient_accumulation_steps > 1:\n",
    "            loss = loss / CFG.gradient_accumulation_steps\n",
    "        if CFG.apex:\n",
    "            with amp.scale_loss(loss, optimizer) as scaled_loss:\n",
    "                scaled_loss.backward()\n",
    "        else:\n",
    "            loss.backward()\n",
    "        grad_norm = torch.nn.utils.clip_grad_norm_(model.parameters(), CFG.max_grad_norm)\n",
    "        if (step + 1) % CFG.gradient_accumulation_steps == 0:\n",
    "            optimizer.step()\n",
    "            optimizer.zero_grad()\n",
    "            global_step += 1\n",
    "        # measure elapsed time\n",
    "        batch_time.update(time.time() - end)\n",
    "        end = time.time()\n",
    "        if step % CFG.print_freq == 0 or step == (len(train_loader)-1):\n",
    "            print('Epoch: [{0}][{1}/{2}] '\n",
    "                  'Data {data_time.val:.3f} ({data_time.avg:.3f}) '\n",
    "                  'Elapsed {remain:s} '\n",
    "                  'Loss: {loss.val:.4f}({loss.avg:.4f}) '\n",
    "                  'Grad: {grad_norm:.4f}  '\n",
    "                  #'LR: {lr:.6f}  '\n",
    "                  .format(\n",
    "                   epoch+1, step, len(train_loader), batch_time=batch_time,\n",
    "                   data_time=data_time, loss=losses,\n",
    "                   remain=timeSince(start, float(step+1)/len(train_loader)),\n",
    "                   grad_norm=grad_norm,\n",
    "                   #lr=scheduler.get_lr()[0],\n",
    "                   ))\n",
    "    return losses.avg\n",
    "\n",
    "\n",
    "def valid_fn(valid_loader, model, criterion, device):\n",
    "    batch_time = AverageMeter()\n",
    "    data_time = AverageMeter()\n",
    "    losses = AverageMeter()\n",
    "    scores = AverageMeter()\n",
    "    # switch to evaluation mode\n",
    "    model.eval()\n",
    "    preds = []\n",
    "    start = end = time.time()\n",
    "    for step, (images, labels) in enumerate(valid_loader):\n",
    "        # measure data loading time\n",
    "        data_time.update(time.time() - end)\n",
    "        images = images.to(device)\n",
    "        labels = labels.to(device)\n",
    "        batch_size = labels.size(0)\n",
    "        # compute loss\n",
    "        with torch.no_grad():\n",
    "            y_preds = model(images)\n",
    "        loss = criterion(y_preds, labels)\n",
    "        losses.update(loss.item(), batch_size)\n",
    "        # record accuracy\n",
    "        preds.append(y_preds.softmax(1).to('cpu').numpy())\n",
    "        if CFG.gradient_accumulation_steps > 1:\n",
    "            loss = loss / CFG.gradient_accumulation_steps\n",
    "        # measure elapsed time\n",
    "        batch_time.update(time.time() - end)\n",
    "        end = time.time()\n",
    "        if step % CFG.print_freq == 0 or step == (len(valid_loader)-1):\n",
    "            print('EVAL: [{0}/{1}] '\n",
    "                  'Data {data_time.val:.3f} ({data_time.avg:.3f}) '\n",
    "                  'Elapsed {remain:s} '\n",
    "                  'Loss: {loss.val:.4f}({loss.avg:.4f}) '\n",
    "                  .format(\n",
    "                   step, len(valid_loader), batch_time=batch_time,\n",
    "                   data_time=data_time, loss=losses,\n",
    "                   remain=timeSince(start, float(step+1)/len(valid_loader)),\n",
    "                   ))\n",
    "    predictions = np.concatenate(preds)\n",
    "    \n",
    "    return losses.avg, predictions\n",
    "\n",
    "\n",
    "def inference(model, states, test_loader, device):\n",
    "    model.to(device)\n",
    "    tk0 = tqdm(enumerate(test_loader), total=len(test_loader))\n",
    "    probs = []\n",
    "    for i, (images) in tk0:\n",
    "        images = images.to(device)\n",
    "        avg_preds = []\n",
    "        for state in states:\n",
    "            model.load_state_dict(state['model'])\n",
    "            model.eval()\n",
    "            with torch.no_grad():\n",
    "                y_preds = model(images)\n",
    "            avg_preds.append(y_preds.softmax(1).to('cpu').numpy())\n",
    "        avg_preds = np.mean(avg_preds, axis=0)\n",
    "        probs.append(avg_preds)\n",
    "    probs = np.concatenate(probs)\n",
    "    \n",
    "    return probs"
   ]
  },
  {
   "cell_type": "markdown",
   "metadata": {
    "papermill": {
     "duration": 0.031441,
     "end_time": "2021-02-03T07:36:22.311375",
     "exception": false,
     "start_time": "2021-02-03T07:36:22.279934",
     "status": "completed"
    },
    "tags": []
   },
   "source": [
    "## Train loop"
   ]
  },
  {
   "cell_type": "code",
   "execution_count": 18,
   "metadata": {
    "execution": {
     "iopub.execute_input": "2021-02-03T07:36:22.400079Z",
     "iopub.status.busy": "2021-02-03T07:36:22.399250Z",
     "iopub.status.idle": "2021-02-03T07:36:22.402728Z",
     "shell.execute_reply": "2021-02-03T07:36:22.402272Z"
    },
    "papermill": {
     "duration": 0.059211,
     "end_time": "2021-02-03T07:36:22.402839",
     "exception": false,
     "start_time": "2021-02-03T07:36:22.343628",
     "status": "completed"
    },
    "tags": []
   },
   "outputs": [],
   "source": [
    "# ====================================================\n",
    "# Train loop\n",
    "# ====================================================\n",
    "def train_loop(folds, fold):\n",
    "\n",
    "    LOGGER.info(f\"========== fold: {fold} training ==========\")\n",
    "\n",
    "    # ====================================================\n",
    "    # loader\n",
    "    # ====================================================\n",
    "    trn_idx = folds[folds['fold'] != fold].index\n",
    "    val_idx = folds[folds['fold'] == fold].index\n",
    "\n",
    "    train_folds = folds.loc[trn_idx].reset_index(drop=True)\n",
    "    valid_folds = folds.loc[val_idx].reset_index(drop=True)\n",
    "\n",
    "    train_dataset = TrainDataset(train_folds, \n",
    "                                 transform=get_transforms(data='train'))\n",
    "    valid_dataset = TrainDataset(valid_folds, \n",
    "                                 transform=get_transforms(data='valid'))\n",
    "\n",
    "    train_loader = DataLoader(train_dataset, \n",
    "                              batch_size=CFG.batch_size, \n",
    "                              shuffle=True, \n",
    "                              num_workers=CFG.num_workers, pin_memory=True, drop_last=True)\n",
    "    valid_loader = DataLoader(valid_dataset, \n",
    "                              batch_size=CFG.batch_size, \n",
    "                              shuffle=False, \n",
    "                              num_workers=CFG.num_workers, pin_memory=True, drop_last=False)\n",
    "    \n",
    "    # ====================================================\n",
    "    # scheduler \n",
    "    # ====================================================\n",
    "    def get_scheduler(optimizer):\n",
    "        if CFG.scheduler=='ReduceLROnPlateau':\n",
    "            scheduler = ReduceLROnPlateau(optimizer, mode='min', factor=CFG.factor, patience=CFG.patience, verbose=True, eps=CFG.eps)\n",
    "        elif CFG.scheduler=='CosineAnnealingLR':\n",
    "            scheduler = CosineAnnealingLR(optimizer, T_max=CFG.T_max, eta_min=CFG.min_lr, last_epoch=-1)\n",
    "        elif CFG.scheduler=='CosineAnnealingWarmRestarts':\n",
    "            scheduler = CosineAnnealingWarmRestarts(optimizer, T_0=CFG.T_0, T_mult=1, eta_min=CFG.min_lr, last_epoch=-1)\n",
    "        return scheduler\n",
    "\n",
    "    # ====================================================\n",
    "    # model & optimizer\n",
    "    # ====================================================\n",
    "    model = CustomResNext(CFG.model_name, pretrained=True)\n",
    "    model.to(device)\n",
    "\n",
    "    optimizer = Adam(model.parameters(), lr=CFG.lr, weight_decay=CFG.weight_decay, amsgrad=False)\n",
    "    scheduler = get_scheduler(optimizer)\n",
    "\n",
    "    # ====================================================\n",
    "    # apex\n",
    "    # ====================================================\n",
    "    if CFG.apex:\n",
    "        model, optimizer = amp.initialize(model, optimizer, opt_level='O1', verbosity=0)\n",
    "\n",
    "    # ====================================================\n",
    "    # loop\n",
    "    # ====================================================\n",
    "    criterion = nn.CrossEntropyLoss()\n",
    "\n",
    "    best_score = 0.\n",
    "    best_loss = np.inf\n",
    "    \n",
    "    for epoch in range(CFG.epochs):\n",
    "        \n",
    "        start_time = time.time()\n",
    "        \n",
    "        # train\n",
    "        avg_loss = train_fn(train_loader, model, criterion, optimizer, epoch, scheduler, device)\n",
    "\n",
    "        # eval\n",
    "        avg_val_loss, preds = valid_fn(valid_loader, model, criterion, device)\n",
    "        valid_labels = valid_folds[CFG.target_col].values\n",
    "        \n",
    "        if isinstance(scheduler, ReduceLROnPlateau):\n",
    "            scheduler.step(avg_val_loss)\n",
    "        elif isinstance(scheduler, CosineAnnealingLR):\n",
    "            scheduler.step()\n",
    "        elif isinstance(scheduler, CosineAnnealingWarmRestarts):\n",
    "            scheduler.step()\n",
    "\n",
    "        # scoring\n",
    "        score = get_score(valid_labels, preds.argmax(1))\n",
    "\n",
    "        elapsed = time.time() - start_time\n",
    "\n",
    "        LOGGER.info(f'Epoch {epoch+1} - avg_train_loss: {avg_loss:.4f}  avg_val_loss: {avg_val_loss:.4f}  time: {elapsed:.0f}s')\n",
    "        LOGGER.info(f'Epoch {epoch+1} - Accuracy: {score}')\n",
    "\n",
    "        if score > best_score:\n",
    "            best_score = score\n",
    "            LOGGER.info(f'Epoch {epoch+1} - Save Best Score: {best_score:.4f} Model')\n",
    "            torch.save({'model': model.state_dict(), \n",
    "                        'preds': preds},\n",
    "                        OUTPUT_DIR+f'{CFG.model_name}_fold{fold}_best.pth')\n",
    "    \n",
    "    check_point = torch.load(OUTPUT_DIR+f'{CFG.model_name}_fold{fold}_best.pth')\n",
    "    valid_folds[[str(c) for c in range(5)]] = check_point['preds']\n",
    "    valid_folds['preds'] = check_point['preds'].argmax(1)\n",
    "\n",
    "    return valid_folds"
   ]
  },
  {
   "cell_type": "code",
   "execution_count": 19,
   "metadata": {
    "execution": {
     "iopub.execute_input": "2021-02-03T07:36:22.483253Z",
     "iopub.status.busy": "2021-02-03T07:36:22.481463Z",
     "iopub.status.idle": "2021-02-03T07:36:22.483894Z",
     "shell.execute_reply": "2021-02-03T07:36:22.484388Z"
    },
    "papermill": {
     "duration": 0.048591,
     "end_time": "2021-02-03T07:36:22.484530",
     "exception": false,
     "start_time": "2021-02-03T07:36:22.435939",
     "status": "completed"
    },
    "tags": []
   },
   "outputs": [],
   "source": [
    "# ====================================================\n",
    "# main\n",
    "# ====================================================\n",
    "def main():\n",
    "\n",
    "    \"\"\"\n",
    "    Prepare: 1.train  2.test  3.submission  4.folds\n",
    "    \"\"\"\n",
    "\n",
    "    def get_result(result_df):\n",
    "        preds = result_df['preds'].values\n",
    "        labels = result_df[CFG.target_col].values\n",
    "        score = get_score(labels, preds)\n",
    "        LOGGER.info(f'Score: {score:<.5f}')\n",
    "    \n",
    "    if CFG.train:\n",
    "        # train \n",
    "        oof_df = pd.DataFrame()\n",
    "        for fold in range(CFG.n_fold):\n",
    "            if fold in CFG.trn_fold:\n",
    "                _oof_df = train_loop(folds, fold)\n",
    "                oof_df = pd.concat([oof_df, _oof_df])\n",
    "                LOGGER.info(f\"========== fold: {fold} result ==========\")\n",
    "                get_result(_oof_df)\n",
    "        # CV result\n",
    "        LOGGER.info(f\"========== CV ==========\")\n",
    "        get_result(oof_df)\n",
    "        # save result\n",
    "        oof_df.to_csv(OUTPUT_DIR+'oof_df.csv', index=False)\n",
    "    \n",
    "    if CFG.inference:\n",
    "        # inference\n",
    "        model = CustomResNext(CFG.model_name, pretrained=False)\n",
    "        states = [torch.load(OUTPUT_DIR+f'{CFG.model_name}_fold{fold}_best.pth') for fold in CFG.trn_fold]\n",
    "        test_dataset = TestDataset(test, transform=get_transforms(data='valid'))\n",
    "        test_loader = DataLoader(test_dataset, batch_size=CFG.batch_size, shuffle=False, \n",
    "                                 num_workers=CFG.num_workers, pin_memory=True)\n",
    "        predictions = inference(model, states, test_loader, device)\n",
    "        # submission\n",
    "        test['label'] = predictions.argmax(1)\n",
    "        test[['image_id', 'label']].to_csv(OUTPUT_DIR+'submission.csv', index=False)"
   ]
  },
  {
   "cell_type": "code",
   "execution_count": 20,
   "metadata": {
    "execution": {
     "iopub.execute_input": "2021-02-03T07:36:22.555879Z",
     "iopub.status.busy": "2021-02-03T07:36:22.555290Z",
     "iopub.status.idle": "2021-02-03T11:02:55.758467Z",
     "shell.execute_reply": "2021-02-03T11:02:55.757941Z"
    },
    "papermill": {
     "duration": 12393.239735,
     "end_time": "2021-02-03T11:02:55.758582",
     "exception": false,
     "start_time": "2021-02-03T07:36:22.518847",
     "status": "completed"
    },
    "tags": []
   },
   "outputs": [
    {
     "name": "stderr",
     "output_type": "stream",
     "text": [
      "========== fold: 0 training ==========\n",
      "Downloading: \"https://github.com/rwightman/pytorch-image-models/releases/download/v0.1-weights/resnext50_32x4d_ra-d733960d.pth\" to /root/.cache/torch/hub/checkpoints/resnext50_32x4d_ra-d733960d.pth\n"
     ]
    },
    {
     "name": "stdout",
     "output_type": "stream",
     "text": [
      "Epoch: [1][0/534] Data 1.679 (1.679) Elapsed 0m 3s (remain 30m 33s) Loss: 1.5482(1.5482) Grad: 8.1059  \n",
      "Epoch: [1][100/534] Data 0.000 (0.017) Elapsed 0m 43s (remain 3m 4s) Loss: 0.8025(0.8247) Grad: 13.6389  \n",
      "Epoch: [1][200/534] Data 0.010 (0.009) Elapsed 1m 23s (remain 2m 17s) Loss: 0.3008(0.7297) Grad: 5.0669  \n",
      "Epoch: [1][300/534] Data 0.000 (0.006) Elapsed 2m 2s (remain 1m 34s) Loss: 0.5419(0.6751) Grad: 8.3931  \n",
      "Epoch: [1][400/534] Data 0.000 (0.005) Elapsed 2m 42s (remain 0m 53s) Loss: 0.5032(0.6444) Grad: 6.1452  \n",
      "Epoch: [1][500/534] Data 0.000 (0.004) Elapsed 3m 22s (remain 0m 13s) Loss: 0.4588(0.6265) Grad: 6.6259  \n",
      "Epoch: [1][533/534] Data 0.000 (0.004) Elapsed 3m 34s (remain 0m 0s) Loss: 0.7242(0.6192) Grad: 7.8318  \n",
      "EVAL: [0/134] Data 1.119 (1.119) Elapsed 0m 1s (remain 2m 41s) Loss: 0.7604(0.7604) \n",
      "EVAL: [100/134] Data 0.080 (0.181) Elapsed 0m 28s (remain 0m 9s) Loss: 0.6971(0.5087) \n"
     ]
    },
    {
     "name": "stderr",
     "output_type": "stream",
     "text": [
      "Epoch 1 - avg_train_loss: 0.6192  avg_val_loss: 0.5073  time: 252s\n",
      "Epoch 1 - Accuracy: 0.8257009345794393\n",
      "Epoch 1 - Save Best Score: 0.8257 Model\n"
     ]
    },
    {
     "name": "stdout",
     "output_type": "stream",
     "text": [
      "EVAL: [133/134] Data 0.010 (0.178) Elapsed 0m 36s (remain 0m 0s) Loss: 0.6232(0.5073) \n",
      "Epoch: [2][0/534] Data 1.306 (1.306) Elapsed 0m 1s (remain 15m 22s) Loss: 0.5518(0.5518) Grad: 6.3776  \n",
      "Epoch: [2][100/534] Data 0.000 (0.014) Elapsed 0m 41s (remain 2m 59s) Loss: 0.2913(0.5023) Grad: 4.5230  \n",
      "Epoch: [2][200/534] Data 0.000 (0.007) Elapsed 1m 20s (remain 2m 13s) Loss: 0.4416(0.4976) Grad: 4.8117  \n",
      "Epoch: [2][300/534] Data 0.000 (0.005) Elapsed 1m 59s (remain 1m 32s) Loss: 0.4326(0.4863) Grad: 5.9154  \n",
      "Epoch: [2][400/534] Data 0.000 (0.004) Elapsed 2m 38s (remain 0m 52s) Loss: 0.6340(0.4823) Grad: 7.6833  \n",
      "Epoch: [2][500/534] Data 0.000 (0.003) Elapsed 3m 17s (remain 0m 13s) Loss: 0.5841(0.4887) Grad: 6.4603  \n",
      "Epoch: [2][533/534] Data 0.000 (0.003) Elapsed 3m 29s (remain 0m 0s) Loss: 0.3496(0.4863) Grad: 4.8970  \n",
      "EVAL: [0/134] Data 1.066 (1.066) Elapsed 0m 1s (remain 2m 35s) Loss: 0.5970(0.5970) \n",
      "EVAL: [100/134] Data 0.373 (0.166) Elapsed 0m 26s (remain 0m 8s) Loss: 0.5517(0.4612) \n"
     ]
    },
    {
     "name": "stderr",
     "output_type": "stream",
     "text": [
      "Epoch 2 - avg_train_loss: 0.4863  avg_val_loss: 0.4591  time: 244s\n",
      "Epoch 2 - Accuracy: 0.8523364485981308\n",
      "Epoch 2 - Save Best Score: 0.8523 Model\n"
     ]
    },
    {
     "name": "stdout",
     "output_type": "stream",
     "text": [
      "EVAL: [133/134] Data 0.000 (0.157) Elapsed 0m 34s (remain 0m 0s) Loss: 0.6488(0.4591) \n",
      "Epoch: [3][0/534] Data 1.984 (1.984) Elapsed 0m 2s (remain 21m 34s) Loss: 0.3097(0.3097) Grad: 4.5447  \n",
      "Epoch: [3][100/534] Data 0.000 (0.020) Elapsed 0m 41s (remain 2m 58s) Loss: 0.3355(0.4390) Grad: 4.5280  \n",
      "Epoch: [3][200/534] Data 0.000 (0.010) Elapsed 1m 20s (remain 2m 13s) Loss: 0.4168(0.4455) Grad: 4.9605  \n",
      "Epoch: [3][300/534] Data 0.000 (0.007) Elapsed 1m 59s (remain 1m 32s) Loss: 0.3815(0.4582) Grad: 4.8842  \n",
      "Epoch: [3][400/534] Data 0.000 (0.006) Elapsed 2m 38s (remain 0m 52s) Loss: 0.2566(0.4557) Grad: 2.9273  \n",
      "Epoch: [3][500/534] Data 0.000 (0.005) Elapsed 3m 17s (remain 0m 13s) Loss: 0.6674(0.4558) Grad: 6.8415  \n",
      "Epoch: [3][533/534] Data 0.000 (0.004) Elapsed 3m 30s (remain 0m 0s) Loss: 0.5766(0.4593) Grad: 5.4368  \n",
      "EVAL: [0/134] Data 1.330 (1.330) Elapsed 0m 1s (remain 3m 10s) Loss: 0.5733(0.5733) \n",
      "EVAL: [100/134] Data 0.597 (0.166) Elapsed 0m 26s (remain 0m 8s) Loss: 0.4595(0.4393) \n"
     ]
    },
    {
     "name": "stderr",
     "output_type": "stream",
     "text": [
      "Epoch 3 - avg_train_loss: 0.4593  avg_val_loss: 0.4360  time: 244s\n",
      "Epoch 3 - Accuracy: 0.8558411214953271\n",
      "Epoch 3 - Save Best Score: 0.8558 Model\n"
     ]
    },
    {
     "name": "stdout",
     "output_type": "stream",
     "text": [
      "EVAL: [133/134] Data 0.060 (0.156) Elapsed 0m 34s (remain 0m 0s) Loss: 0.6719(0.4360) \n",
      "Epoch: [4][0/534] Data 1.357 (1.357) Elapsed 0m 1s (remain 15m 43s) Loss: 0.5742(0.5742) Grad: 4.7767  \n",
      "Epoch: [4][100/534] Data 0.000 (0.014) Elapsed 0m 40s (remain 2m 54s) Loss: 0.5604(0.4194) Grad: 5.6712  \n",
      "Epoch: [4][200/534] Data 0.000 (0.007) Elapsed 1m 19s (remain 2m 11s) Loss: 0.4307(0.4295) Grad: 4.3769  \n",
      "Epoch: [4][300/534] Data 0.000 (0.005) Elapsed 1m 58s (remain 1m 31s) Loss: 0.3070(0.4293) Grad: 4.1907  \n",
      "Epoch: [4][400/534] Data 0.000 (0.004) Elapsed 2m 37s (remain 0m 52s) Loss: 0.3817(0.4279) Grad: 5.0044  \n",
      "Epoch: [4][500/534] Data 0.000 (0.003) Elapsed 3m 16s (remain 0m 12s) Loss: 0.4414(0.4298) Grad: 4.8294  \n",
      "Epoch: [4][533/534] Data 0.000 (0.003) Elapsed 3m 28s (remain 0m 0s) Loss: 0.6259(0.4281) Grad: 6.2169  \n",
      "EVAL: [0/134] Data 1.085 (1.085) Elapsed 0m 1s (remain 2m 39s) Loss: 0.5437(0.5437) \n",
      "EVAL: [100/134] Data 0.538 (0.161) Elapsed 0m 26s (remain 0m 8s) Loss: 0.6238(0.4198) \n"
     ]
    },
    {
     "name": "stderr",
     "output_type": "stream",
     "text": [
      "Epoch 4 - avg_train_loss: 0.4281  avg_val_loss: 0.4142  time: 243s\n",
      "Epoch 4 - Accuracy: 0.860981308411215\n",
      "Epoch 4 - Save Best Score: 0.8610 Model\n"
     ]
    },
    {
     "name": "stdout",
     "output_type": "stream",
     "text": [
      "EVAL: [133/134] Data 0.000 (0.155) Elapsed 0m 33s (remain 0m 0s) Loss: 0.6251(0.4142) \n",
      "Epoch: [5][0/534] Data 1.321 (1.321) Elapsed 0m 1s (remain 15m 45s) Loss: 0.2560(0.2560) Grad: 4.1736  \n",
      "Epoch: [5][100/534] Data 0.000 (0.014) Elapsed 0m 40s (remain 2m 54s) Loss: 0.2739(0.3869) Grad: 4.7913  \n",
      "Epoch: [5][200/534] Data 0.000 (0.007) Elapsed 1m 19s (remain 2m 11s) Loss: 0.4770(0.4016) Grad: 4.4494  \n",
      "Epoch: [5][300/534] Data 0.007 (0.005) Elapsed 1m 58s (remain 1m 31s) Loss: 0.5418(0.4145) Grad: 5.4747  \n",
      "Epoch: [5][400/534] Data 0.000 (0.004) Elapsed 2m 37s (remain 0m 52s) Loss: 0.5379(0.4074) Grad: 4.9700  \n",
      "Epoch: [5][500/534] Data 0.000 (0.003) Elapsed 3m 16s (remain 0m 12s) Loss: 0.4458(0.4031) Grad: 5.8221  \n",
      "Epoch: [5][533/534] Data 0.000 (0.003) Elapsed 3m 28s (remain 0m 0s) Loss: 1.0044(0.4002) Grad: 7.6199  \n",
      "EVAL: [0/134] Data 1.110 (1.110) Elapsed 0m 1s (remain 2m 40s) Loss: 0.5071(0.5071) \n",
      "EVAL: [100/134] Data 0.567 (0.162) Elapsed 0m 26s (remain 0m 8s) Loss: 0.5755(0.4154) \n"
     ]
    },
    {
     "name": "stderr",
     "output_type": "stream",
     "text": [
      "Epoch 5 - avg_train_loss: 0.4002  avg_val_loss: 0.4117  time: 243s\n",
      "Epoch 5 - Accuracy: 0.8644859813084113\n",
      "Epoch 5 - Save Best Score: 0.8645 Model\n"
     ]
    },
    {
     "name": "stdout",
     "output_type": "stream",
     "text": [
      "EVAL: [133/134] Data 0.000 (0.155) Elapsed 0m 33s (remain 0m 0s) Loss: 0.7064(0.4117) \n",
      "Epoch: [6][0/534] Data 1.254 (1.254) Elapsed 0m 1s (remain 15m 0s) Loss: 0.4236(0.4236) Grad: 5.9376  \n",
      "Epoch: [6][100/534] Data 0.008 (0.013) Elapsed 0m 41s (remain 2m 58s) Loss: 0.3406(0.3846) Grad: 4.3328  \n",
      "Epoch: [6][200/534] Data 0.000 (0.007) Elapsed 1m 21s (remain 2m 14s) Loss: 0.8054(0.3801) Grad: 8.8393  \n",
      "Epoch: [6][300/534] Data 0.000 (0.005) Elapsed 2m 0s (remain 1m 33s) Loss: 0.5040(0.3785) Grad: 6.0667  \n",
      "Epoch: [6][400/534] Data 0.000 (0.004) Elapsed 2m 38s (remain 0m 52s) Loss: 0.2823(0.3791) Grad: 3.2562  \n",
      "Epoch: [6][500/534] Data 0.000 (0.003) Elapsed 3m 17s (remain 0m 13s) Loss: 0.4236(0.3836) Grad: 4.9651  \n",
      "Epoch: [6][533/534] Data 0.000 (0.003) Elapsed 3m 30s (remain 0m 0s) Loss: 0.1671(0.3854) Grad: 2.7937  \n",
      "EVAL: [0/134] Data 1.161 (1.161) Elapsed 0m 1s (remain 2m 47s) Loss: 0.5028(0.5028) \n",
      "EVAL: [100/134] Data 0.553 (0.161) Elapsed 0m 26s (remain 0m 8s) Loss: 0.4880(0.3921) \n"
     ]
    },
    {
     "name": "stderr",
     "output_type": "stream",
     "text": [
      "Epoch 6 - avg_train_loss: 0.3854  avg_val_loss: 0.3891  time: 245s\n",
      "Epoch 6 - Accuracy: 0.8707943925233644\n",
      "Epoch 6 - Save Best Score: 0.8708 Model\n"
     ]
    },
    {
     "name": "stdout",
     "output_type": "stream",
     "text": [
      "EVAL: [133/134] Data 0.000 (0.157) Elapsed 0m 34s (remain 0m 0s) Loss: 0.6694(0.3891) \n",
      "Epoch: [7][0/534] Data 1.270 (1.270) Elapsed 0m 1s (remain 15m 8s) Loss: 0.4135(0.4135) Grad: 5.3028  \n",
      "Epoch: [7][100/534] Data 0.000 (0.013) Elapsed 0m 40s (remain 2m 55s) Loss: 0.2021(0.3553) Grad: 3.5405  \n",
      "Epoch: [7][200/534] Data 0.000 (0.007) Elapsed 1m 19s (remain 2m 11s) Loss: 0.2172(0.3623) Grad: 4.4003  \n",
      "Epoch: [7][300/534] Data 0.000 (0.005) Elapsed 1m 58s (remain 1m 31s) Loss: 0.5837(0.3601) Grad: 5.4313  \n",
      "Epoch: [7][400/534] Data 0.000 (0.004) Elapsed 2m 36s (remain 0m 51s) Loss: 0.1851(0.3608) Grad: 2.8125  \n",
      "Epoch: [7][500/534] Data 0.000 (0.003) Elapsed 3m 15s (remain 0m 12s) Loss: 0.4159(0.3614) Grad: 6.0347  \n",
      "Epoch: [7][533/534] Data 0.000 (0.003) Elapsed 3m 27s (remain 0m 0s) Loss: 0.5643(0.3614) Grad: 5.5326  \n",
      "EVAL: [0/134] Data 1.120 (1.120) Elapsed 0m 1s (remain 2m 43s) Loss: 0.4214(0.4214) \n",
      "EVAL: [100/134] Data 0.345 (0.161) Elapsed 0m 26s (remain 0m 8s) Loss: 0.5442(0.4007) \n"
     ]
    },
    {
     "name": "stderr",
     "output_type": "stream",
     "text": [
      "Epoch 7 - avg_train_loss: 0.3614  avg_val_loss: 0.3915  time: 242s\n",
      "Epoch 7 - Accuracy: 0.8663551401869158\n"
     ]
    },
    {
     "name": "stdout",
     "output_type": "stream",
     "text": [
      "EVAL: [133/134] Data 0.000 (0.156) Elapsed 0m 33s (remain 0m 0s) Loss: 0.6143(0.3915) \n",
      "Epoch: [8][0/534] Data 1.296 (1.296) Elapsed 0m 1s (remain 15m 28s) Loss: 0.3624(0.3624) Grad: 4.4865  \n",
      "Epoch: [8][100/534] Data 0.000 (0.013) Elapsed 0m 41s (remain 2m 56s) Loss: 0.3031(0.3189) Grad: 4.5279  \n",
      "Epoch: [8][200/534] Data 0.000 (0.007) Elapsed 1m 20s (remain 2m 13s) Loss: 0.2724(0.3215) Grad: 3.2709  \n",
      "Epoch: [8][300/534] Data 0.000 (0.005) Elapsed 1m 59s (remain 1m 32s) Loss: 0.4358(0.3283) Grad: 7.1483  \n",
      "Epoch: [8][400/534] Data 0.000 (0.004) Elapsed 2m 39s (remain 0m 52s) Loss: 0.3629(0.3337) Grad: 5.5893  \n",
      "Epoch: [8][500/534] Data 0.000 (0.003) Elapsed 3m 18s (remain 0m 13s) Loss: 0.2882(0.3362) Grad: 4.9387  \n",
      "Epoch: [8][533/534] Data 0.000 (0.003) Elapsed 3m 30s (remain 0m 0s) Loss: 0.1839(0.3381) Grad: 4.3288  \n",
      "EVAL: [0/134] Data 1.175 (1.175) Elapsed 0m 1s (remain 2m 48s) Loss: 0.4173(0.4173) \n",
      "EVAL: [100/134] Data 0.504 (0.170) Elapsed 0m 27s (remain 0m 8s) Loss: 0.4722(0.3961) \n"
     ]
    },
    {
     "name": "stderr",
     "output_type": "stream",
     "text": [
      "Epoch 8 - avg_train_loss: 0.3381  avg_val_loss: 0.3932  time: 245s\n",
      "Epoch 8 - Accuracy: 0.8651869158878505\n"
     ]
    },
    {
     "name": "stdout",
     "output_type": "stream",
     "text": [
      "EVAL: [133/134] Data 0.021 (0.159) Elapsed 0m 34s (remain 0m 0s) Loss: 0.6027(0.3932) \n",
      "Epoch: [9][0/534] Data 1.315 (1.315) Elapsed 0m 1s (remain 15m 26s) Loss: 0.5666(0.5666) Grad: 6.6966  \n",
      "Epoch: [9][100/534] Data 0.000 (0.014) Elapsed 0m 41s (remain 2m 57s) Loss: 0.6071(0.3240) Grad: 7.2454  \n",
      "Epoch: [9][200/534] Data 0.000 (0.007) Elapsed 1m 20s (remain 2m 13s) Loss: 0.2923(0.3271) Grad: 4.3938  \n",
      "Epoch: [9][300/534] Data 0.000 (0.005) Elapsed 1m 59s (remain 1m 32s) Loss: 0.2504(0.3254) Grad: 3.8983  \n",
      "Epoch: [9][400/534] Data 0.000 (0.004) Elapsed 2m 38s (remain 0m 52s) Loss: 0.3228(0.3287) Grad: 4.8454  \n",
      "Epoch: [9][500/534] Data 0.000 (0.003) Elapsed 3m 17s (remain 0m 13s) Loss: 0.4229(0.3236) Grad: 6.2960  \n",
      "Epoch: [9][533/534] Data 0.000 (0.003) Elapsed 3m 30s (remain 0m 0s) Loss: 0.3238(0.3256) Grad: 5.9275  \n",
      "EVAL: [0/134] Data 1.243 (1.243) Elapsed 0m 1s (remain 2m 59s) Loss: 0.4889(0.4889) \n",
      "EVAL: [100/134] Data 0.000 (0.164) Elapsed 0m 26s (remain 0m 8s) Loss: 0.4260(0.3866) \n"
     ]
    },
    {
     "name": "stderr",
     "output_type": "stream",
     "text": [
      "Epoch 9 - avg_train_loss: 0.3256  avg_val_loss: 0.3797  time: 245s\n",
      "Epoch 9 - Accuracy: 0.8738317757009346\n",
      "Epoch 9 - Save Best Score: 0.8738 Model\n"
     ]
    },
    {
     "name": "stdout",
     "output_type": "stream",
     "text": [
      "EVAL: [133/134] Data 0.005 (0.159) Elapsed 0m 34s (remain 0m 0s) Loss: 0.6235(0.3797) \n",
      "Epoch: [10][0/534] Data 1.263 (1.263) Elapsed 0m 1s (remain 14m 57s) Loss: 0.2844(0.2844) Grad: 5.3829  \n",
      "Epoch: [10][100/534] Data 0.000 (0.013) Elapsed 0m 41s (remain 2m 57s) Loss: 0.4610(0.3109) Grad: 6.3357  \n",
      "Epoch: [10][200/534] Data 0.000 (0.007) Elapsed 1m 20s (remain 2m 13s) Loss: 0.3489(0.3139) Grad: 5.0153  \n",
      "Epoch: [10][300/534] Data 0.000 (0.005) Elapsed 2m 0s (remain 1m 32s) Loss: 0.3751(0.3094) Grad: 5.5212  \n",
      "Epoch: [10][400/534] Data 0.000 (0.004) Elapsed 2m 39s (remain 0m 52s) Loss: 0.2969(0.3123) Grad: 4.4954  \n",
      "Epoch: [10][500/534] Data 0.000 (0.003) Elapsed 3m 18s (remain 0m 13s) Loss: 0.1986(0.3127) Grad: 3.5505  \n",
      "Epoch: [10][533/534] Data 0.000 (0.003) Elapsed 3m 30s (remain 0m 0s) Loss: 0.3096(0.3146) Grad: 5.1589  \n",
      "EVAL: [0/134] Data 1.338 (1.338) Elapsed 0m 1s (remain 3m 10s) Loss: 0.4693(0.4693) \n",
      "EVAL: [100/134] Data 0.546 (0.162) Elapsed 0m 26s (remain 0m 8s) Loss: 0.4889(0.3922) \n"
     ]
    },
    {
     "name": "stderr",
     "output_type": "stream",
     "text": [
      "Epoch 10 - avg_train_loss: 0.3146  avg_val_loss: 0.3848  time: 245s\n",
      "Epoch 10 - Accuracy: 0.8710280373831776\n",
      "========== fold: 0 result ==========\n",
      "Score: 0.87383\n",
      "========== fold: 1 training ==========\n"
     ]
    },
    {
     "name": "stdout",
     "output_type": "stream",
     "text": [
      "EVAL: [133/134] Data 0.000 (0.156) Elapsed 0m 34s (remain 0m 0s) Loss: 0.6332(0.3848) \n",
      "Epoch: [1][0/534] Data 1.338 (1.338) Elapsed 0m 1s (remain 15m 46s) Loss: 1.6012(1.6012) Grad: 7.4267  \n",
      "Epoch: [1][100/534] Data 0.000 (0.014) Elapsed 0m 41s (remain 2m 59s) Loss: 0.5671(0.8599) Grad: 10.0281  \n",
      "Epoch: [1][200/534] Data 0.000 (0.007) Elapsed 1m 20s (remain 2m 13s) Loss: 0.5802(0.7525) Grad: 8.0354  \n",
      "Epoch: [1][300/534] Data 0.000 (0.005) Elapsed 2m 0s (remain 1m 32s) Loss: 0.3049(0.7006) Grad: 3.8907  \n",
      "Epoch: [1][400/534] Data 0.000 (0.004) Elapsed 2m 39s (remain 0m 52s) Loss: 0.4348(0.6669) Grad: 6.4797  \n",
      "Epoch: [1][500/534] Data 0.000 (0.003) Elapsed 3m 18s (remain 0m 13s) Loss: 0.3695(0.6373) Grad: 6.8522  \n",
      "Epoch: [1][533/534] Data 0.000 (0.003) Elapsed 3m 31s (remain 0m 0s) Loss: 0.6063(0.6325) Grad: 6.5614  \n",
      "EVAL: [0/134] Data 1.223 (1.223) Elapsed 0m 1s (remain 2m 55s) Loss: 0.4521(0.4521) \n",
      "EVAL: [100/134] Data 0.488 (0.167) Elapsed 0m 26s (remain 0m 8s) Loss: 0.5290(0.4617) \n"
     ]
    },
    {
     "name": "stderr",
     "output_type": "stream",
     "text": [
      "Epoch 1 - avg_train_loss: 0.6325  avg_val_loss: 0.4643  time: 246s\n",
      "Epoch 1 - Accuracy: 0.8387850467289719\n",
      "Epoch 1 - Save Best Score: 0.8388 Model\n"
     ]
    },
    {
     "name": "stdout",
     "output_type": "stream",
     "text": [
      "EVAL: [133/134] Data 0.019 (0.159) Elapsed 0m 34s (remain 0m 0s) Loss: 0.2183(0.4643) \n",
      "Epoch: [2][0/534] Data 1.418 (1.418) Elapsed 0m 1s (remain 17m 7s) Loss: 0.4445(0.4445) Grad: 6.4507  \n",
      "Epoch: [2][100/534] Data 0.000 (0.015) Elapsed 0m 41s (remain 2m 57s) Loss: 0.6298(0.5145) Grad: 6.9705  \n",
      "Epoch: [2][200/534] Data 0.000 (0.008) Elapsed 1m 20s (remain 2m 13s) Loss: 0.5156(0.5099) Grad: 5.1693  \n",
      "Epoch: [2][300/534] Data 0.009 (0.005) Elapsed 1m 59s (remain 1m 32s) Loss: 0.4139(0.4907) Grad: 5.5666  \n",
      "Epoch: [2][400/534] Data 0.000 (0.004) Elapsed 2m 38s (remain 0m 52s) Loss: 0.2635(0.4872) Grad: 3.8260  \n",
      "Epoch: [2][500/534] Data 0.000 (0.004) Elapsed 3m 18s (remain 0m 13s) Loss: 0.7589(0.4917) Grad: 7.4009  \n",
      "Epoch: [2][533/534] Data 0.000 (0.003) Elapsed 3m 31s (remain 0m 0s) Loss: 0.5441(0.4917) Grad: 5.1672  \n",
      "EVAL: [0/134] Data 0.992 (0.992) Elapsed 0m 1s (remain 2m 24s) Loss: 0.4565(0.4565) \n",
      "EVAL: [100/134] Data 0.571 (0.167) Elapsed 0m 26s (remain 0m 8s) Loss: 0.4270(0.4318) \n"
     ]
    },
    {
     "name": "stderr",
     "output_type": "stream",
     "text": [
      "Epoch 2 - avg_train_loss: 0.4917  avg_val_loss: 0.4243  time: 246s\n",
      "Epoch 2 - Accuracy: 0.8537383177570094\n",
      "Epoch 2 - Save Best Score: 0.8537 Model\n"
     ]
    },
    {
     "name": "stdout",
     "output_type": "stream",
     "text": [
      "EVAL: [133/134] Data 0.000 (0.157) Elapsed 0m 34s (remain 0m 0s) Loss: 0.1311(0.4243) \n",
      "Epoch: [3][0/534] Data 1.428 (1.428) Elapsed 0m 1s (remain 16m 30s) Loss: 0.4578(0.4578) Grad: 5.1931  \n",
      "Epoch: [3][100/534] Data 0.001 (0.015) Elapsed 0m 41s (remain 2m 57s) Loss: 0.4442(0.4576) Grad: 4.7819  \n",
      "Epoch: [3][200/534] Data 0.000 (0.008) Elapsed 1m 20s (remain 2m 13s) Loss: 0.6731(0.4633) Grad: 7.3892  \n",
      "Epoch: [3][300/534] Data 0.000 (0.005) Elapsed 2m 0s (remain 1m 33s) Loss: 0.3073(0.4631) Grad: 4.0717  \n",
      "Epoch: [3][400/534] Data 0.000 (0.004) Elapsed 2m 39s (remain 0m 52s) Loss: 0.3596(0.4627) Grad: 4.5696  \n",
      "Epoch: [3][500/534] Data 0.000 (0.004) Elapsed 3m 19s (remain 0m 13s) Loss: 0.4410(0.4581) Grad: 5.8776  \n",
      "Epoch: [3][533/534] Data 0.000 (0.003) Elapsed 3m 31s (remain 0m 0s) Loss: 0.2641(0.4556) Grad: 3.2978  \n",
      "EVAL: [0/134] Data 1.175 (1.175) Elapsed 0m 1s (remain 2m 49s) Loss: 0.3185(0.3185) \n",
      "EVAL: [100/134] Data 0.503 (0.170) Elapsed 0m 27s (remain 0m 8s) Loss: 0.4558(0.4180) \n"
     ]
    },
    {
     "name": "stderr",
     "output_type": "stream",
     "text": [
      "Epoch 3 - avg_train_loss: 0.4556  avg_val_loss: 0.4167  time: 247s\n",
      "Epoch 3 - Accuracy: 0.8565420560747663\n",
      "Epoch 3 - Save Best Score: 0.8565 Model\n"
     ]
    },
    {
     "name": "stdout",
     "output_type": "stream",
     "text": [
      "EVAL: [133/134] Data 0.000 (0.161) Elapsed 0m 34s (remain 0m 0s) Loss: 0.0763(0.4167) \n",
      "Epoch: [4][0/534] Data 1.772 (1.772) Elapsed 0m 2s (remain 19m 39s) Loss: 0.2284(0.2284) Grad: 4.6402  \n",
      "Epoch: [4][100/534] Data 0.000 (0.018) Elapsed 0m 41s (remain 2m 58s) Loss: 0.4073(0.4478) Grad: 4.5341  \n",
      "Epoch: [4][200/534] Data 0.002 (0.009) Elapsed 1m 21s (remain 2m 14s) Loss: 0.4316(0.4289) Grad: 4.4573  \n",
      "Epoch: [4][300/534] Data 0.000 (0.006) Elapsed 2m 0s (remain 1m 33s) Loss: 0.2386(0.4314) Grad: 4.2991  \n",
      "Epoch: [4][400/534] Data 0.000 (0.005) Elapsed 2m 40s (remain 0m 53s) Loss: 0.4118(0.4291) Grad: 5.2876  \n",
      "Epoch: [4][500/534] Data 0.000 (0.004) Elapsed 3m 19s (remain 0m 13s) Loss: 0.5805(0.4328) Grad: 4.7319  \n",
      "Epoch: [4][533/534] Data 0.000 (0.004) Elapsed 3m 32s (remain 0m 0s) Loss: 0.6795(0.4314) Grad: 9.0816  \n",
      "EVAL: [0/134] Data 1.101 (1.101) Elapsed 0m 1s (remain 2m 39s) Loss: 0.3638(0.3638) \n",
      "EVAL: [100/134] Data 0.569 (0.168) Elapsed 0m 26s (remain 0m 8s) Loss: 0.3745(0.3812) \n"
     ]
    },
    {
     "name": "stderr",
     "output_type": "stream",
     "text": [
      "Epoch 4 - avg_train_loss: 0.4314  avg_val_loss: 0.3759  time: 247s\n",
      "Epoch 4 - Accuracy: 0.8745327102803738\n",
      "Epoch 4 - Save Best Score: 0.8745 Model\n"
     ]
    },
    {
     "name": "stdout",
     "output_type": "stream",
     "text": [
      "EVAL: [133/134] Data 0.000 (0.159) Elapsed 0m 34s (remain 0m 0s) Loss: 0.0494(0.3759) \n",
      "Epoch: [5][0/534] Data 1.362 (1.362) Elapsed 0m 1s (remain 15m 54s) Loss: 0.2030(0.2030) Grad: 3.1166  \n",
      "Epoch: [5][100/534] Data 0.000 (0.014) Elapsed 0m 41s (remain 2m 57s) Loss: 0.4483(0.4192) Grad: 4.3499  \n",
      "Epoch: [5][200/534] Data 0.000 (0.007) Elapsed 1m 20s (remain 2m 13s) Loss: 0.3881(0.4127) Grad: 5.2820  \n",
      "Epoch: [5][300/534] Data 0.000 (0.005) Elapsed 1m 59s (remain 1m 32s) Loss: 0.4138(0.4143) Grad: 3.7152  \n",
      "Epoch: [5][400/534] Data 0.000 (0.004) Elapsed 2m 38s (remain 0m 52s) Loss: 0.6086(0.4114) Grad: 5.2788  \n",
      "Epoch: [5][500/534] Data 0.000 (0.003) Elapsed 3m 18s (remain 0m 13s) Loss: 0.2988(0.4091) Grad: 4.2805  \n",
      "Epoch: [5][533/534] Data 0.000 (0.003) Elapsed 3m 30s (remain 0m 0s) Loss: 0.5523(0.4096) Grad: 6.1945  \n",
      "EVAL: [0/134] Data 1.014 (1.014) Elapsed 0m 1s (remain 2m 29s) Loss: 0.2931(0.2931) \n",
      "EVAL: [100/134] Data 0.620 (0.160) Elapsed 0m 26s (remain 0m 8s) Loss: 0.4047(0.3765) \n"
     ]
    },
    {
     "name": "stderr",
     "output_type": "stream",
     "text": [
      "Epoch 5 - avg_train_loss: 0.4096  avg_val_loss: 0.3732  time: 245s\n",
      "Epoch 5 - Accuracy: 0.8745327102803738\n"
     ]
    },
    {
     "name": "stdout",
     "output_type": "stream",
     "text": [
      "EVAL: [133/134] Data 0.000 (0.159) Elapsed 0m 34s (remain 0m 0s) Loss: 0.0512(0.3732) \n",
      "Epoch: [6][0/534] Data 1.308 (1.308) Elapsed 0m 1s (remain 15m 36s) Loss: 0.2465(0.2465) Grad: 3.8570  \n",
      "Epoch: [6][100/534] Data 0.000 (0.014) Elapsed 0m 41s (remain 2m 57s) Loss: 0.4672(0.3814) Grad: 4.7255  \n",
      "Epoch: [6][200/534] Data 0.000 (0.007) Elapsed 1m 20s (remain 2m 13s) Loss: 0.1121(0.3832) Grad: 2.3670  \n",
      "Epoch: [6][300/534] Data 0.000 (0.005) Elapsed 2m 0s (remain 1m 33s) Loss: 0.2999(0.3870) Grad: 3.1412  \n",
      "Epoch: [6][400/534] Data 0.000 (0.004) Elapsed 2m 39s (remain 0m 52s) Loss: 0.2901(0.3829) Grad: 4.8267  \n",
      "Epoch: [6][500/534] Data 0.000 (0.003) Elapsed 3m 19s (remain 0m 13s) Loss: 0.6054(0.3852) Grad: 5.8559  \n",
      "Epoch: [6][533/534] Data 0.000 (0.003) Elapsed 3m 32s (remain 0m 0s) Loss: 0.3032(0.3857) Grad: 3.6445  \n",
      "EVAL: [0/134] Data 0.998 (0.998) Elapsed 0m 1s (remain 2m 25s) Loss: 0.4179(0.4179) \n",
      "EVAL: [100/134] Data 0.424 (0.168) Elapsed 0m 26s (remain 0m 8s) Loss: 0.3170(0.3641) \n"
     ]
    },
    {
     "name": "stderr",
     "output_type": "stream",
     "text": [
      "Epoch 6 - avg_train_loss: 0.3857  avg_val_loss: 0.3654  time: 247s\n",
      "Epoch 6 - Accuracy: 0.8794392523364486\n",
      "Epoch 6 - Save Best Score: 0.8794 Model\n"
     ]
    },
    {
     "name": "stdout",
     "output_type": "stream",
     "text": [
      "EVAL: [133/134] Data 0.000 (0.159) Elapsed 0m 34s (remain 0m 0s) Loss: 0.0691(0.3654) \n",
      "Epoch: [7][0/534] Data 1.746 (1.746) Elapsed 0m 2s (remain 19m 34s) Loss: 0.3683(0.3683) Grad: 3.9590  \n",
      "Epoch: [7][100/534] Data 0.000 (0.018) Elapsed 0m 41s (remain 2m 58s) Loss: 0.4454(0.3625) Grad: 5.8894  \n",
      "Epoch: [7][200/534] Data 0.000 (0.009) Elapsed 1m 21s (remain 2m 14s) Loss: 0.1925(0.3665) Grad: 3.1994  \n",
      "Epoch: [7][300/534] Data 0.003 (0.006) Elapsed 2m 0s (remain 1m 33s) Loss: 0.6339(0.3650) Grad: 5.4449  \n",
      "Epoch: [7][400/534] Data 0.000 (0.005) Elapsed 2m 39s (remain 0m 52s) Loss: 0.3590(0.3725) Grad: 4.1497  \n",
      "Epoch: [7][500/534] Data 0.000 (0.004) Elapsed 3m 18s (remain 0m 13s) Loss: 0.2857(0.3697) Grad: 4.8541  \n",
      "Epoch: [7][533/534] Data 0.000 (0.004) Elapsed 3m 31s (remain 0m 0s) Loss: 0.3996(0.3718) Grad: 4.9458  \n",
      "EVAL: [0/134] Data 1.266 (1.266) Elapsed 0m 1s (remain 3m 0s) Loss: 0.2632(0.2632) \n",
      "EVAL: [100/134] Data 0.687 (0.171) Elapsed 0m 27s (remain 0m 8s) Loss: 0.3093(0.3551) \n"
     ]
    },
    {
     "name": "stderr",
     "output_type": "stream",
     "text": [
      "Epoch 7 - avg_train_loss: 0.3718  avg_val_loss: 0.3529  time: 246s\n",
      "Epoch 7 - Accuracy: 0.8792056074766356\n"
     ]
    },
    {
     "name": "stdout",
     "output_type": "stream",
     "text": [
      "EVAL: [133/134] Data 0.000 (0.163) Elapsed 0m 34s (remain 0m 0s) Loss: 0.0329(0.3529) \n",
      "Epoch: [8][0/534] Data 1.394 (1.394) Elapsed 0m 1s (remain 16m 22s) Loss: 0.3087(0.3087) Grad: 5.0650  \n",
      "Epoch: [8][100/534] Data 0.000 (0.015) Elapsed 0m 42s (remain 3m 3s) Loss: 0.4048(0.3399) Grad: 6.8128  \n",
      "Epoch: [8][200/534] Data 0.000 (0.008) Elapsed 1m 22s (remain 2m 17s) Loss: 0.3242(0.3429) Grad: 4.1731  \n",
      "Epoch: [8][300/534] Data 0.000 (0.005) Elapsed 2m 2s (remain 1m 34s) Loss: 0.2941(0.3473) Grad: 4.7677  \n",
      "Epoch: [8][400/534] Data 0.000 (0.004) Elapsed 2m 42s (remain 0m 53s) Loss: 0.2858(0.3474) Grad: 3.6499  \n",
      "Epoch: [8][500/534] Data 0.000 (0.004) Elapsed 3m 21s (remain 0m 13s) Loss: 0.2840(0.3411) Grad: 5.5002  \n",
      "Epoch: [8][533/534] Data 0.000 (0.003) Elapsed 3m 34s (remain 0m 0s) Loss: 0.4956(0.3433) Grad: 6.3205  \n",
      "EVAL: [0/134] Data 1.354 (1.354) Elapsed 0m 1s (remain 3m 12s) Loss: 0.2625(0.2625) \n",
      "EVAL: [100/134] Data 0.613 (0.173) Elapsed 0m 27s (remain 0m 9s) Loss: 0.4071(0.3666) \n"
     ]
    },
    {
     "name": "stderr",
     "output_type": "stream",
     "text": [
      "Epoch 8 - avg_train_loss: 0.3433  avg_val_loss: 0.3678  time: 250s\n",
      "Epoch 8 - Accuracy: 0.8794392523364486\n"
     ]
    },
    {
     "name": "stdout",
     "output_type": "stream",
     "text": [
      "EVAL: [133/134] Data 0.000 (0.164) Elapsed 0m 35s (remain 0m 0s) Loss: 0.0305(0.3678) \n",
      "Epoch: [9][0/534] Data 1.370 (1.370) Elapsed 0m 1s (remain 15m 50s) Loss: 0.3918(0.3918) Grad: 5.1142  \n",
      "Epoch: [9][100/534] Data 0.004 (0.015) Elapsed 0m 41s (remain 2m 56s) Loss: 0.2631(0.3139) Grad: 3.7338  \n",
      "Epoch: [9][200/534] Data 0.000 (0.008) Elapsed 1m 20s (remain 2m 13s) Loss: 0.2779(0.3195) Grad: 4.6055  \n",
      "Epoch: [9][300/534] Data 0.000 (0.005) Elapsed 2m 0s (remain 1m 33s) Loss: 0.1905(0.3258) Grad: 4.3352  \n",
      "Epoch: [9][400/534] Data 0.000 (0.004) Elapsed 2m 40s (remain 0m 53s) Loss: 0.2303(0.3258) Grad: 5.4037  \n",
      "Epoch: [9][500/534] Data 0.001 (0.003) Elapsed 3m 20s (remain 0m 13s) Loss: 0.3190(0.3264) Grad: 4.6303  \n",
      "Epoch: [9][533/534] Data 0.000 (0.003) Elapsed 3m 33s (remain 0m 0s) Loss: 0.1866(0.3279) Grad: 3.5364  \n",
      "EVAL: [0/134] Data 1.182 (1.182) Elapsed 0m 1s (remain 2m 50s) Loss: 0.2989(0.2989) \n",
      "EVAL: [100/134] Data 0.591 (0.173) Elapsed 0m 27s (remain 0m 8s) Loss: 0.3139(0.3604) \n"
     ]
    },
    {
     "name": "stderr",
     "output_type": "stream",
     "text": [
      "Epoch 9 - avg_train_loss: 0.3279  avg_val_loss: 0.3606  time: 249s\n",
      "Epoch 9 - Accuracy: 0.8829439252336448\n",
      "Epoch 9 - Save Best Score: 0.8829 Model\n"
     ]
    },
    {
     "name": "stdout",
     "output_type": "stream",
     "text": [
      "EVAL: [133/134] Data 0.000 (0.166) Elapsed 0m 35s (remain 0m 0s) Loss: 0.0335(0.3606) \n",
      "Epoch: [10][0/534] Data 1.374 (1.374) Elapsed 0m 1s (remain 16m 21s) Loss: 0.3567(0.3567) Grad: 6.3073  \n",
      "Epoch: [10][100/534] Data 0.000 (0.014) Elapsed 0m 41s (remain 2m 59s) Loss: 0.2119(0.2982) Grad: 4.2297  \n",
      "Epoch: [10][200/534] Data 0.000 (0.008) Elapsed 1m 21s (remain 2m 15s) Loss: 0.2015(0.3035) Grad: 3.3396  \n",
      "Epoch: [10][300/534] Data 0.000 (0.005) Elapsed 2m 1s (remain 1m 33s) Loss: 0.2226(0.3058) Grad: 2.8732  \n",
      "Epoch: [10][400/534] Data 0.000 (0.004) Elapsed 2m 41s (remain 0m 53s) Loss: 0.4357(0.3106) Grad: 5.2860  \n",
      "Epoch: [10][500/534] Data 0.000 (0.004) Elapsed 3m 20s (remain 0m 13s) Loss: 0.2155(0.3088) Grad: 3.7206  \n",
      "Epoch: [10][533/534] Data 0.000 (0.003) Elapsed 3m 34s (remain 0m 0s) Loss: 0.2419(0.3106) Grad: 4.0373  \n",
      "EVAL: [0/134] Data 1.256 (1.256) Elapsed 0m 1s (remain 3m 1s) Loss: 0.2756(0.2756) \n",
      "EVAL: [100/134] Data 0.633 (0.174) Elapsed 0m 27s (remain 0m 9s) Loss: 0.3562(0.3593) \n"
     ]
    },
    {
     "name": "stderr",
     "output_type": "stream",
     "text": [
      "Epoch 10 - avg_train_loss: 0.3106  avg_val_loss: 0.3592  time: 249s\n",
      "Epoch 10 - Accuracy: 0.8801401869158878\n",
      "========== fold: 1 result ==========\n",
      "Score: 0.88294\n"
     ]
    },
    {
     "name": "stdout",
     "output_type": "stream",
     "text": [
      "EVAL: [133/134] Data 0.000 (0.164) Elapsed 0m 35s (remain 0m 0s) Loss: 0.0224(0.3592) \n"
     ]
    },
    {
     "name": "stderr",
     "output_type": "stream",
     "text": [
      "========== fold: 2 training ==========\n"
     ]
    },
    {
     "name": "stdout",
     "output_type": "stream",
     "text": [
      "Epoch: [1][0/534] Data 1.295 (1.295) Elapsed 0m 1s (remain 15m 47s) Loss: 1.6239(1.6239) Grad: 7.3757  \n",
      "Epoch: [1][100/534] Data 0.000 (0.014) Elapsed 0m 41s (remain 2m 59s) Loss: 0.6454(0.8508) Grad: 9.4397  \n",
      "Epoch: [1][200/534] Data 0.000 (0.007) Elapsed 1m 21s (remain 2m 15s) Loss: 0.5748(0.7456) Grad: 8.7455  \n",
      "Epoch: [1][300/534] Data 0.000 (0.005) Elapsed 2m 2s (remain 1m 34s) Loss: 0.6671(0.6836) Grad: 9.4456  \n",
      "Epoch: [1][400/534] Data 0.000 (0.004) Elapsed 2m 41s (remain 0m 53s) Loss: 0.5171(0.6485) Grad: 8.9011  \n",
      "Epoch: [1][500/534] Data 0.000 (0.003) Elapsed 3m 21s (remain 0m 13s) Loss: 0.7365(0.6241) Grad: 8.7174  \n",
      "Epoch: [1][533/534] Data 0.000 (0.003) Elapsed 3m 34s (remain 0m 0s) Loss: 0.7254(0.6178) Grad: 7.8036  \n",
      "EVAL: [0/134] Data 1.262 (1.262) Elapsed 0m 1s (remain 3m 0s) Loss: 0.5176(0.5176) \n",
      "EVAL: [100/134] Data 0.583 (0.172) Elapsed 0m 27s (remain 0m 8s) Loss: 0.4557(0.4822) \n"
     ]
    },
    {
     "name": "stderr",
     "output_type": "stream",
     "text": [
      "Epoch 1 - avg_train_loss: 0.6178  avg_val_loss: 0.4792  time: 250s\n",
      "Epoch 1 - Accuracy: 0.8338396821687311\n",
      "Epoch 1 - Save Best Score: 0.8338 Model\n"
     ]
    },
    {
     "name": "stdout",
     "output_type": "stream",
     "text": [
      "EVAL: [133/134] Data 0.000 (0.165) Elapsed 0m 35s (remain 0m 0s) Loss: 0.4080(0.4792) \n",
      "Epoch: [2][0/534] Data 1.309 (1.309) Elapsed 0m 1s (remain 15m 48s) Loss: 0.4313(0.4313) Grad: 6.8021  \n",
      "Epoch: [2][100/534] Data 0.000 (0.014) Elapsed 0m 42s (remain 3m 1s) Loss: 0.2938(0.4861) Grad: 3.7196  \n",
      "Epoch: [2][200/534] Data 0.000 (0.007) Elapsed 1m 22s (remain 2m 15s) Loss: 0.6917(0.4891) Grad: 7.1438  \n",
      "Epoch: [2][300/534] Data 0.000 (0.005) Elapsed 2m 1s (remain 1m 34s) Loss: 0.5399(0.4858) Grad: 5.5558  \n",
      "Epoch: [2][400/534] Data 0.000 (0.004) Elapsed 2m 41s (remain 0m 53s) Loss: 0.4311(0.4852) Grad: 4.8773  \n",
      "Epoch: [2][500/534] Data 0.003 (0.003) Elapsed 3m 21s (remain 0m 13s) Loss: 0.2802(0.4857) Grad: 3.6118  \n",
      "Epoch: [2][533/534] Data 0.000 (0.003) Elapsed 3m 34s (remain 0m 0s) Loss: 0.3761(0.4875) Grad: 4.4947  \n",
      "EVAL: [0/134] Data 1.102 (1.102) Elapsed 0m 1s (remain 2m 39s) Loss: 0.3453(0.3453) \n",
      "EVAL: [100/134] Data 0.684 (0.171) Elapsed 0m 27s (remain 0m 8s) Loss: 0.3765(0.4576) \n"
     ]
    },
    {
     "name": "stderr",
     "output_type": "stream",
     "text": [
      "Epoch 2 - avg_train_loss: 0.4875  avg_val_loss: 0.4606  time: 249s\n",
      "Epoch 2 - Accuracy: 0.8441224585183454\n",
      "Epoch 2 - Save Best Score: 0.8441 Model\n"
     ]
    },
    {
     "name": "stdout",
     "output_type": "stream",
     "text": [
      "EVAL: [133/134] Data 0.000 (0.161) Elapsed 0m 34s (remain 0m 0s) Loss: 0.5024(0.4606) \n",
      "Epoch: [3][0/534] Data 1.544 (1.544) Elapsed 0m 2s (remain 17m 49s) Loss: 0.7622(0.7622) Grad: 7.4582  \n",
      "Epoch: [3][100/534] Data 0.002 (0.016) Elapsed 0m 42s (remain 3m 2s) Loss: 0.6014(0.4631) Grad: 7.0996  \n",
      "Epoch: [3][200/534] Data 0.000 (0.009) Elapsed 1m 22s (remain 2m 16s) Loss: 0.3586(0.4718) Grad: 4.7221  \n",
      "Epoch: [3][300/534] Data 0.000 (0.006) Elapsed 2m 2s (remain 1m 34s) Loss: 0.5167(0.4727) Grad: 4.4892  \n",
      "Epoch: [3][400/534] Data 0.000 (0.005) Elapsed 2m 42s (remain 0m 53s) Loss: 0.5878(0.4707) Grad: 6.2272  \n",
      "Epoch: [3][500/534] Data 0.000 (0.004) Elapsed 3m 22s (remain 0m 13s) Loss: 0.2300(0.4630) Grad: 4.1305  \n",
      "Epoch: [3][533/534] Data 0.000 (0.004) Elapsed 3m 35s (remain 0m 0s) Loss: 0.5010(0.4599) Grad: 6.0544  \n",
      "EVAL: [0/134] Data 1.224 (1.224) Elapsed 0m 1s (remain 2m 55s) Loss: 0.3919(0.3919) \n",
      "EVAL: [100/134] Data 0.729 (0.175) Elapsed 0m 27s (remain 0m 9s) Loss: 0.5169(0.4314) \n"
     ]
    },
    {
     "name": "stderr",
     "output_type": "stream",
     "text": [
      "Epoch 3 - avg_train_loss: 0.4599  avg_val_loss: 0.4299  time: 251s\n",
      "Epoch 3 - Accuracy: 0.8534704370179949\n",
      "Epoch 3 - Save Best Score: 0.8535 Model\n"
     ]
    },
    {
     "name": "stdout",
     "output_type": "stream",
     "text": [
      "EVAL: [133/134] Data 0.000 (0.165) Elapsed 0m 35s (remain 0m 0s) Loss: 0.4833(0.4299) \n",
      "Epoch: [4][0/534] Data 1.394 (1.394) Elapsed 0m 1s (remain 16m 19s) Loss: 0.4022(0.4022) Grad: 6.3687  \n",
      "Epoch: [4][100/534] Data 0.000 (0.015) Elapsed 0m 42s (remain 3m 2s) Loss: 0.4323(0.4269) Grad: 6.3956  \n",
      "Epoch: [4][200/534] Data 0.000 (0.008) Elapsed 1m 22s (remain 2m 16s) Loss: 0.5579(0.4536) Grad: 5.7748  \n",
      "Epoch: [4][300/534] Data 0.000 (0.005) Elapsed 2m 2s (remain 1m 34s) Loss: 0.8226(0.4374) Grad: 6.5289  \n",
      "Epoch: [4][400/534] Data 0.000 (0.004) Elapsed 2m 41s (remain 0m 53s) Loss: 0.3538(0.4340) Grad: 5.6838  \n",
      "Epoch: [4][500/534] Data 0.000 (0.004) Elapsed 3m 21s (remain 0m 13s) Loss: 0.3758(0.4310) Grad: 4.5325  \n",
      "Epoch: [4][533/534] Data 0.000 (0.003) Elapsed 3m 34s (remain 0m 0s) Loss: 0.4744(0.4301) Grad: 4.4337  \n",
      "EVAL: [0/134] Data 1.159 (1.159) Elapsed 0m 1s (remain 2m 46s) Loss: 0.4552(0.4552) \n",
      "EVAL: [100/134] Data 0.518 (0.167) Elapsed 0m 26s (remain 0m 8s) Loss: 0.4324(0.4031) \n"
     ]
    },
    {
     "name": "stderr",
     "output_type": "stream",
     "text": [
      "Epoch 4 - avg_train_loss: 0.4301  avg_val_loss: 0.4071  time: 250s\n",
      "Epoch 4 - Accuracy: 0.8628184155176443\n",
      "Epoch 4 - Save Best Score: 0.8628 Model\n"
     ]
    },
    {
     "name": "stdout",
     "output_type": "stream",
     "text": [
      "EVAL: [133/134] Data 0.000 (0.164) Elapsed 0m 35s (remain 0m 0s) Loss: 0.4266(0.4071) \n",
      "Epoch: [5][0/534] Data 1.227 (1.227) Elapsed 0m 1s (remain 14m 46s) Loss: 0.6710(0.6710) Grad: 6.6821  \n",
      "Epoch: [5][100/534] Data 0.000 (0.013) Elapsed 0m 41s (remain 2m 58s) Loss: 0.3086(0.4305) Grad: 3.4242  \n",
      "Epoch: [5][200/534] Data 0.000 (0.007) Elapsed 1m 21s (remain 2m 15s) Loss: 0.3037(0.4178) Grad: 4.5543  \n",
      "Epoch: [5][300/534] Data 0.001 (0.005) Elapsed 2m 1s (remain 1m 34s) Loss: 0.2766(0.4058) Grad: 4.4345  \n",
      "Epoch: [5][400/534] Data 0.000 (0.004) Elapsed 2m 42s (remain 0m 53s) Loss: 0.2831(0.4066) Grad: 3.8086  \n",
      "Epoch: [5][500/534] Data 0.000 (0.003) Elapsed 3m 22s (remain 0m 13s) Loss: 0.3037(0.4074) Grad: 5.0729  \n",
      "Epoch: [5][533/534] Data 0.000 (0.003) Elapsed 3m 34s (remain 0m 0s) Loss: 0.2233(0.4073) Grad: 3.0641  \n",
      "EVAL: [0/134] Data 1.110 (1.110) Elapsed 0m 1s (remain 2m 40s) Loss: 0.3534(0.3534) \n",
      "EVAL: [100/134] Data 0.588 (0.163) Elapsed 0m 26s (remain 0m 8s) Loss: 0.3939(0.4053) \n"
     ]
    },
    {
     "name": "stderr",
     "output_type": "stream",
     "text": [
      "Epoch 5 - avg_train_loss: 0.4073  avg_val_loss: 0.4084  time: 250s\n",
      "Epoch 5 - Accuracy: 0.859546623042767\n"
     ]
    },
    {
     "name": "stdout",
     "output_type": "stream",
     "text": [
      "EVAL: [133/134] Data 0.000 (0.162) Elapsed 0m 34s (remain 0m 0s) Loss: 0.4938(0.4084) \n",
      "Epoch: [6][0/534] Data 1.262 (1.262) Elapsed 0m 1s (remain 14m 55s) Loss: 0.3302(0.3302) Grad: 4.5717  \n",
      "Epoch: [6][100/534] Data 0.000 (0.013) Elapsed 0m 41s (remain 2m 55s) Loss: 0.3184(0.3970) Grad: 3.6960  \n",
      "Epoch: [6][200/534] Data 0.000 (0.007) Elapsed 1m 21s (remain 2m 14s) Loss: 0.3291(0.3846) Grad: 3.7418  \n",
      "Epoch: [6][300/534] Data 0.000 (0.005) Elapsed 2m 0s (remain 1m 33s) Loss: 0.3509(0.3835) Grad: 3.7666  \n",
      "Epoch: [6][400/534] Data 0.005 (0.004) Elapsed 2m 40s (remain 0m 53s) Loss: 0.6059(0.3843) Grad: 5.7556  \n",
      "Epoch: [6][500/534] Data 0.000 (0.003) Elapsed 3m 20s (remain 0m 13s) Loss: 0.5727(0.3827) Grad: 5.2495  \n",
      "Epoch: [6][533/534] Data 0.000 (0.003) Elapsed 3m 32s (remain 0m 0s) Loss: 0.5334(0.3847) Grad: 5.6757  \n",
      "EVAL: [0/134] Data 1.112 (1.112) Elapsed 0m 1s (remain 2m 41s) Loss: 0.3417(0.3417) \n",
      "EVAL: [100/134] Data 0.301 (0.159) Elapsed 0m 26s (remain 0m 8s) Loss: 0.4922(0.4024) \n"
     ]
    },
    {
     "name": "stderr",
     "output_type": "stream",
     "text": [
      "Epoch 6 - avg_train_loss: 0.3847  avg_val_loss: 0.4006  time: 247s\n",
      "Epoch 6 - Accuracy: 0.8637532133676092\n",
      "Epoch 6 - Save Best Score: 0.8638 Model\n"
     ]
    },
    {
     "name": "stdout",
     "output_type": "stream",
     "text": [
      "EVAL: [133/134] Data 0.000 (0.157) Elapsed 0m 34s (remain 0m 0s) Loss: 0.4418(0.4006) \n",
      "Epoch: [7][0/534] Data 1.311 (1.311) Elapsed 0m 1s (remain 15m 36s) Loss: 0.5584(0.5584) Grad: 5.6273  \n",
      "Epoch: [7][100/534] Data 0.000 (0.014) Elapsed 0m 41s (remain 2m 58s) Loss: 0.2973(0.3554) Grad: 4.1895  \n",
      "Epoch: [7][200/534] Data 0.000 (0.007) Elapsed 1m 20s (remain 2m 14s) Loss: 0.2551(0.3544) Grad: 3.5141  \n",
      "Epoch: [7][300/534] Data 0.000 (0.005) Elapsed 2m 0s (remain 1m 33s) Loss: 0.2399(0.3557) Grad: 7.1755  \n",
      "Epoch: [7][400/534] Data 0.000 (0.004) Elapsed 2m 40s (remain 0m 53s) Loss: 0.2107(0.3612) Grad: 3.8840  \n",
      "Epoch: [7][500/534] Data 0.000 (0.003) Elapsed 3m 19s (remain 0m 13s) Loss: 0.3555(0.3641) Grad: 4.9591  \n",
      "Epoch: [7][533/534] Data 0.000 (0.003) Elapsed 3m 31s (remain 0m 0s) Loss: 0.3269(0.3637) Grad: 4.7529  \n",
      "EVAL: [0/134] Data 1.358 (1.358) Elapsed 0m 1s (remain 3m 13s) Loss: 0.4613(0.4613) \n",
      "EVAL: [100/134] Data 0.567 (0.160) Elapsed 0m 26s (remain 0m 8s) Loss: 0.4705(0.3874) \n"
     ]
    },
    {
     "name": "stderr",
     "output_type": "stream",
     "text": [
      "Epoch 7 - avg_train_loss: 0.3637  avg_val_loss: 0.3934  time: 246s\n",
      "Epoch 7 - Accuracy: 0.8731011918672587\n",
      "Epoch 7 - Save Best Score: 0.8731 Model\n"
     ]
    },
    {
     "name": "stdout",
     "output_type": "stream",
     "text": [
      "EVAL: [133/134] Data 0.000 (0.157) Elapsed 0m 34s (remain 0m 0s) Loss: 0.4285(0.3934) \n",
      "Epoch: [8][0/534] Data 1.652 (1.652) Elapsed 0m 2s (remain 18m 41s) Loss: 0.2381(0.2381) Grad: 4.4420  \n",
      "Epoch: [8][100/534] Data 0.000 (0.017) Elapsed 0m 41s (remain 2m 59s) Loss: 0.3548(0.3698) Grad: 4.6708  \n",
      "Epoch: [8][200/534] Data 0.000 (0.009) Elapsed 1m 21s (remain 2m 15s) Loss: 0.3211(0.3516) Grad: 5.8214  \n",
      "Epoch: [8][300/534] Data 0.004 (0.006) Elapsed 2m 1s (remain 1m 33s) Loss: 0.2525(0.3511) Grad: 3.8292  \n",
      "Epoch: [8][400/534] Data 0.000 (0.005) Elapsed 2m 40s (remain 0m 53s) Loss: 0.2985(0.3420) Grad: 4.9968  \n",
      "Epoch: [8][500/534] Data 0.000 (0.004) Elapsed 3m 19s (remain 0m 13s) Loss: 0.2334(0.3404) Grad: 3.9097  \n",
      "Epoch: [8][533/534] Data 0.000 (0.004) Elapsed 3m 32s (remain 0m 0s) Loss: 0.3587(0.3388) Grad: 5.3989  \n",
      "EVAL: [0/134] Data 1.180 (1.180) Elapsed 0m 1s (remain 2m 49s) Loss: 0.4840(0.4840) \n",
      "EVAL: [100/134] Data 0.544 (0.170) Elapsed 0m 27s (remain 0m 8s) Loss: 0.4865(0.3904) \n"
     ]
    },
    {
     "name": "stderr",
     "output_type": "stream",
     "text": [
      "Epoch 8 - avg_train_loss: 0.3388  avg_val_loss: 0.3907  time: 249s\n",
      "Epoch 8 - Accuracy: 0.8688946015424165\n"
     ]
    },
    {
     "name": "stdout",
     "output_type": "stream",
     "text": [
      "EVAL: [133/134] Data 0.000 (0.165) Elapsed 0m 35s (remain 0m 0s) Loss: 0.4297(0.3907) \n",
      "Epoch: [9][0/534] Data 1.192 (1.192) Elapsed 0m 1s (remain 14m 34s) Loss: 0.4293(0.4293) Grad: 7.2354  \n",
      "Epoch: [9][100/534] Data 0.000 (0.013) Elapsed 0m 41s (remain 2m 59s) Loss: 0.4647(0.3136) Grad: 6.4005  \n",
      "Epoch: [9][200/534] Data 0.000 (0.007) Elapsed 1m 21s (remain 2m 15s) Loss: 0.3748(0.3322) Grad: 5.3492  \n",
      "Epoch: [9][300/534] Data 0.000 (0.005) Elapsed 2m 0s (remain 1m 33s) Loss: 0.1154(0.3208) Grad: 2.7759  \n",
      "Epoch: [9][400/534] Data 0.000 (0.004) Elapsed 2m 40s (remain 0m 53s) Loss: 0.3184(0.3253) Grad: 4.6678  \n",
      "Epoch: [9][500/534] Data 0.000 (0.003) Elapsed 3m 19s (remain 0m 13s) Loss: 0.1096(0.3284) Grad: 2.5727  \n",
      "Epoch: [9][533/534] Data 0.000 (0.003) Elapsed 3m 31s (remain 0m 0s) Loss: 0.2041(0.3273) Grad: 3.5635  \n",
      "EVAL: [0/134] Data 1.200 (1.200) Elapsed 0m 1s (remain 2m 53s) Loss: 0.5084(0.5084) \n",
      "EVAL: [100/134] Data 0.495 (0.174) Elapsed 0m 27s (remain 0m 8s) Loss: 0.5246(0.3874) \n"
     ]
    },
    {
     "name": "stderr",
     "output_type": "stream",
     "text": [
      "Epoch 9 - avg_train_loss: 0.3273  avg_val_loss: 0.3905  time: 247s\n",
      "Epoch 9 - Accuracy: 0.8749707875671886\n",
      "Epoch 9 - Save Best Score: 0.8750 Model\n"
     ]
    },
    {
     "name": "stdout",
     "output_type": "stream",
     "text": [
      "EVAL: [133/134] Data 0.000 (0.165) Elapsed 0m 35s (remain 0m 0s) Loss: 0.4271(0.3905) \n",
      "Epoch: [10][0/534] Data 1.214 (1.214) Elapsed 0m 1s (remain 14m 37s) Loss: 0.4013(0.4013) Grad: 7.3790  \n",
      "Epoch: [10][100/534] Data 0.000 (0.013) Elapsed 0m 42s (remain 3m 2s) Loss: 0.1918(0.3241) Grad: 3.7473  \n",
      "Epoch: [10][200/534] Data 0.000 (0.007) Elapsed 1m 22s (remain 2m 17s) Loss: 0.1316(0.3219) Grad: 2.9484  \n",
      "Epoch: [10][300/534] Data 0.009 (0.005) Elapsed 2m 2s (remain 1m 34s) Loss: 0.1915(0.3213) Grad: 3.1540  \n",
      "Epoch: [10][400/534] Data 0.000 (0.004) Elapsed 2m 41s (remain 0m 53s) Loss: 0.4957(0.3204) Grad: 6.5557  \n",
      "Epoch: [10][500/534] Data 0.000 (0.003) Elapsed 3m 21s (remain 0m 13s) Loss: 0.3395(0.3201) Grad: 6.9234  \n",
      "Epoch: [10][533/534] Data 0.000 (0.003) Elapsed 3m 34s (remain 0m 0s) Loss: 0.4498(0.3182) Grad: 6.0642  \n",
      "EVAL: [0/134] Data 1.225 (1.225) Elapsed 0m 1s (remain 2m 55s) Loss: 0.5058(0.5058) \n",
      "EVAL: [100/134] Data 0.205 (0.165) Elapsed 0m 26s (remain 0m 8s) Loss: 0.4911(0.3853) \n"
     ]
    },
    {
     "name": "stderr",
     "output_type": "stream",
     "text": [
      "Epoch 10 - avg_train_loss: 0.3182  avg_val_loss: 0.3883  time: 249s\n",
      "Epoch 10 - Accuracy: 0.8735685907922411\n",
      "========== fold: 2 result ==========\n",
      "Score: 0.87497\n",
      "========== fold: 3 training ==========\n"
     ]
    },
    {
     "name": "stdout",
     "output_type": "stream",
     "text": [
      "EVAL: [133/134] Data 0.000 (0.161) Elapsed 0m 34s (remain 0m 0s) Loss: 0.4154(0.3883) \n",
      "Epoch: [1][0/534] Data 1.670 (1.670) Elapsed 0m 2s (remain 19m 13s) Loss: 1.7108(1.7108) Grad: 8.9530  \n",
      "Epoch: [1][100/534] Data 0.002 (0.017) Elapsed 0m 41s (remain 2m 57s) Loss: 0.6322(0.8376) Grad: 9.3175  \n",
      "Epoch: [1][200/534] Data 0.000 (0.009) Elapsed 1m 20s (remain 2m 13s) Loss: 0.5459(0.7351) Grad: 7.7382  \n",
      "Epoch: [1][300/534] Data 0.000 (0.006) Elapsed 2m 0s (remain 1m 33s) Loss: 0.2482(0.6803) Grad: 4.4904  \n",
      "Epoch: [1][400/534] Data 0.000 (0.005) Elapsed 2m 40s (remain 0m 53s) Loss: 0.3498(0.6511) Grad: 5.3940  \n",
      "Epoch: [1][500/534] Data 0.000 (0.004) Elapsed 3m 19s (remain 0m 13s) Loss: 0.6582(0.6302) Grad: 7.2065  \n",
      "Epoch: [1][533/534] Data 0.000 (0.004) Elapsed 3m 32s (remain 0m 0s) Loss: 0.4320(0.6273) Grad: 5.4398  \n",
      "EVAL: [0/134] Data 1.167 (1.167) Elapsed 0m 1s (remain 2m 47s) Loss: 0.5399(0.5399) \n",
      "EVAL: [100/134] Data 0.653 (0.170) Elapsed 0m 27s (remain 0m 8s) Loss: 0.4664(0.4942) \n"
     ]
    },
    {
     "name": "stderr",
     "output_type": "stream",
     "text": [
      "Epoch 1 - avg_train_loss: 0.6273  avg_val_loss: 0.5052  time: 248s\n",
      "Epoch 1 - Accuracy: 0.8214536106566955\n",
      "Epoch 1 - Save Best Score: 0.8215 Model\n"
     ]
    },
    {
     "name": "stdout",
     "output_type": "stream",
     "text": [
      "EVAL: [133/134] Data 0.000 (0.163) Elapsed 0m 34s (remain 0m 0s) Loss: 0.5326(0.5052) \n",
      "Epoch: [2][0/534] Data 1.117 (1.117) Elapsed 0m 1s (remain 13m 51s) Loss: 0.4399(0.4399) Grad: 4.9964  \n",
      "Epoch: [2][100/534] Data 0.000 (0.012) Elapsed 0m 41s (remain 2m 58s) Loss: 0.5586(0.4986) Grad: 6.2171  \n",
      "Epoch: [2][200/534] Data 0.000 (0.006) Elapsed 1m 21s (remain 2m 14s) Loss: 0.3199(0.4993) Grad: 5.6519  \n",
      "Epoch: [2][300/534] Data 0.000 (0.004) Elapsed 2m 0s (remain 1m 33s) Loss: 0.2588(0.4965) Grad: 3.7091  \n",
      "Epoch: [2][400/534] Data 0.003 (0.003) Elapsed 2m 40s (remain 0m 53s) Loss: 0.6006(0.4883) Grad: 5.3113  \n",
      "Epoch: [2][500/534] Data 0.000 (0.003) Elapsed 3m 20s (remain 0m 13s) Loss: 0.4266(0.4859) Grad: 6.0058  \n",
      "Epoch: [2][533/534] Data 0.000 (0.003) Elapsed 3m 33s (remain 0m 0s) Loss: 0.5813(0.4861) Grad: 4.7270  \n",
      "EVAL: [0/134] Data 1.429 (1.429) Elapsed 0m 1s (remain 3m 22s) Loss: 0.5393(0.5393) \n",
      "EVAL: [100/134] Data 0.325 (0.170) Elapsed 0m 27s (remain 0m 8s) Loss: 0.3904(0.4511) \n"
     ]
    },
    {
     "name": "stderr",
     "output_type": "stream",
     "text": [
      "Epoch 2 - avg_train_loss: 0.4861  avg_val_loss: 0.4547  time: 248s\n",
      "Epoch 2 - Accuracy: 0.8408506660434681\n",
      "Epoch 2 - Save Best Score: 0.8409 Model\n"
     ]
    },
    {
     "name": "stdout",
     "output_type": "stream",
     "text": [
      "EVAL: [133/134] Data 0.000 (0.164) Elapsed 0m 35s (remain 0m 0s) Loss: 0.5729(0.4547) \n",
      "Epoch: [3][0/534] Data 1.267 (1.267) Elapsed 0m 1s (remain 14m 39s) Loss: 0.6269(0.6269) Grad: 6.2707  \n",
      "Epoch: [3][100/534] Data 0.000 (0.013) Elapsed 0m 41s (remain 2m 57s) Loss: 0.3389(0.4633) Grad: 3.6283  \n",
      "Epoch: [3][200/534] Data 0.000 (0.007) Elapsed 1m 20s (remain 2m 14s) Loss: 0.2447(0.4517) Grad: 3.7934  \n",
      "Epoch: [3][300/534] Data 0.004 (0.005) Elapsed 2m 0s (remain 1m 33s) Loss: 0.5200(0.4543) Grad: 5.1987  \n",
      "Epoch: [3][400/534] Data 0.003 (0.004) Elapsed 2m 40s (remain 0m 53s) Loss: 0.3652(0.4522) Grad: 4.1083  \n",
      "Epoch: [3][500/534] Data 0.000 (0.003) Elapsed 3m 19s (remain 0m 13s) Loss: 0.3258(0.4521) Grad: 4.7951  \n",
      "Epoch: [3][533/534] Data 0.000 (0.003) Elapsed 3m 32s (remain 0m 0s) Loss: 0.9240(0.4525) Grad: 7.6453  \n",
      "EVAL: [0/134] Data 1.181 (1.181) Elapsed 0m 1s (remain 2m 49s) Loss: 0.6264(0.6264) \n",
      "EVAL: [100/134] Data 0.041 (0.167) Elapsed 0m 26s (remain 0m 8s) Loss: 0.3895(0.4583) \n"
     ]
    },
    {
     "name": "stderr",
     "output_type": "stream",
     "text": [
      "Epoch 3 - avg_train_loss: 0.4525  avg_val_loss: 0.4600  time: 248s\n",
      "Epoch 3 - Accuracy: 0.8403832671184857\n"
     ]
    },
    {
     "name": "stdout",
     "output_type": "stream",
     "text": [
      "EVAL: [133/134] Data 0.032 (0.163) Elapsed 0m 35s (remain 0m 0s) Loss: 0.4688(0.4600) \n",
      "Epoch: [4][0/534] Data 1.627 (1.627) Elapsed 0m 2s (remain 18m 26s) Loss: 0.3668(0.3668) Grad: 4.9042  \n",
      "Epoch: [4][100/534] Data 0.000 (0.017) Elapsed 0m 41s (remain 2m 59s) Loss: 0.4716(0.4381) Grad: 5.5226  \n",
      "Epoch: [4][200/534] Data 0.004 (0.009) Elapsed 1m 20s (remain 2m 13s) Loss: 0.7204(0.4283) Grad: 6.7448  \n",
      "Epoch: [4][300/534] Data 0.000 (0.006) Elapsed 1m 59s (remain 1m 32s) Loss: 0.5518(0.4233) Grad: 5.6524  \n",
      "Epoch: [4][400/534] Data 0.005 (0.005) Elapsed 2m 39s (remain 0m 52s) Loss: 0.4595(0.4312) Grad: 4.4540  \n",
      "Epoch: [4][500/534] Data 0.000 (0.004) Elapsed 3m 18s (remain 0m 13s) Loss: 0.3225(0.4312) Grad: 3.2458  \n",
      "Epoch: [4][533/534] Data 0.000 (0.004) Elapsed 3m 31s (remain 0m 0s) Loss: 0.5427(0.4325) Grad: 5.1420  \n",
      "EVAL: [0/134] Data 1.249 (1.249) Elapsed 0m 1s (remain 2m 59s) Loss: 0.7024(0.7024) \n",
      "EVAL: [100/134] Data 0.571 (0.171) Elapsed 0m 27s (remain 0m 8s) Loss: 0.4313(0.4502) \n"
     ]
    },
    {
     "name": "stderr",
     "output_type": "stream",
     "text": [
      "Epoch 4 - avg_train_loss: 0.4325  avg_val_loss: 0.4559  time: 247s\n",
      "Epoch 4 - Accuracy: 0.8401495676559944\n"
     ]
    },
    {
     "name": "stdout",
     "output_type": "stream",
     "text": [
      "EVAL: [133/134] Data 0.000 (0.163) Elapsed 0m 35s (remain 0m 0s) Loss: 0.4370(0.4559) \n",
      "Epoch: [5][0/534] Data 1.234 (1.234) Elapsed 0m 1s (remain 14m 44s) Loss: 0.2260(0.2260) Grad: 2.6867  \n",
      "Epoch: [5][100/534] Data 0.000 (0.013) Elapsed 0m 41s (remain 2m 59s) Loss: 0.7092(0.4234) Grad: 5.6139  \n",
      "Epoch: [5][200/534] Data 0.008 (0.007) Elapsed 1m 21s (remain 2m 14s) Loss: 0.6286(0.4063) Grad: 6.4035  \n",
      "Epoch: [5][300/534] Data 0.000 (0.005) Elapsed 2m 0s (remain 1m 33s) Loss: 0.2624(0.4025) Grad: 3.9648  \n",
      "Epoch: [5][400/534] Data 0.000 (0.004) Elapsed 2m 39s (remain 0m 52s) Loss: 0.4520(0.4000) Grad: 4.4548  \n",
      "Epoch: [5][500/534] Data 0.003 (0.003) Elapsed 3m 19s (remain 0m 13s) Loss: 0.3974(0.4070) Grad: 3.9088  \n",
      "Epoch: [5][533/534] Data 0.000 (0.003) Elapsed 3m 32s (remain 0m 0s) Loss: 0.2909(0.4058) Grad: 4.1189  \n",
      "EVAL: [0/134] Data 1.110 (1.110) Elapsed 0m 1s (remain 2m 41s) Loss: 0.6424(0.6424) \n",
      "EVAL: [100/134] Data 0.570 (0.170) Elapsed 0m 27s (remain 0m 8s) Loss: 0.2964(0.4390) \n"
     ]
    },
    {
     "name": "stderr",
     "output_type": "stream",
     "text": [
      "Epoch 5 - avg_train_loss: 0.4058  avg_val_loss: 0.4430  time: 247s\n",
      "Epoch 5 - Accuracy: 0.8534704370179949\n",
      "Epoch 5 - Save Best Score: 0.8535 Model\n"
     ]
    },
    {
     "name": "stdout",
     "output_type": "stream",
     "text": [
      "EVAL: [133/134] Data 0.000 (0.161) Elapsed 0m 34s (remain 0m 0s) Loss: 0.4883(0.4430) \n",
      "Epoch: [6][0/534] Data 1.363 (1.363) Elapsed 0m 1s (remain 15m 52s) Loss: 0.7399(0.7399) Grad: 6.2474  \n",
      "Epoch: [6][100/534] Data 0.000 (0.014) Elapsed 0m 41s (remain 2m 58s) Loss: 0.4310(0.4062) Grad: 5.2671  \n",
      "Epoch: [6][200/534] Data 0.000 (0.007) Elapsed 1m 20s (remain 2m 14s) Loss: 0.3281(0.4053) Grad: 4.2348  \n",
      "Epoch: [6][300/534] Data 0.000 (0.005) Elapsed 2m 0s (remain 1m 33s) Loss: 0.3865(0.3889) Grad: 5.0736  \n",
      "Epoch: [6][400/534] Data 0.006 (0.004) Elapsed 2m 39s (remain 0m 53s) Loss: 0.3217(0.3816) Grad: 4.2396  \n",
      "Epoch: [6][500/534] Data 0.000 (0.003) Elapsed 3m 19s (remain 0m 13s) Loss: 0.2642(0.3792) Grad: 4.4770  \n",
      "Epoch: [6][533/534] Data 0.000 (0.003) Elapsed 3m 31s (remain 0m 0s) Loss: 0.3263(0.3779) Grad: 4.5573  \n",
      "EVAL: [0/134] Data 1.129 (1.129) Elapsed 0m 1s (remain 2m 43s) Loss: 0.5467(0.5467) \n",
      "EVAL: [100/134] Data 0.582 (0.175) Elapsed 0m 27s (remain 0m 9s) Loss: 0.2459(0.4222) \n"
     ]
    },
    {
     "name": "stderr",
     "output_type": "stream",
     "text": [
      "Epoch 6 - avg_train_loss: 0.3779  avg_val_loss: 0.4253  time: 247s\n",
      "Epoch 6 - Accuracy: 0.8558074316429072\n",
      "Epoch 6 - Save Best Score: 0.8558 Model\n"
     ]
    },
    {
     "name": "stdout",
     "output_type": "stream",
     "text": [
      "EVAL: [133/134] Data 0.000 (0.164) Elapsed 0m 35s (remain 0m 0s) Loss: 0.5736(0.4253) \n",
      "Epoch: [7][0/534] Data 1.445 (1.445) Elapsed 0m 1s (remain 16m 51s) Loss: 0.2355(0.2355) Grad: 2.9362  \n",
      "Epoch: [7][100/534] Data 0.007 (0.015) Elapsed 0m 42s (remain 3m 1s) Loss: 0.3713(0.3543) Grad: 4.7481  \n",
      "Epoch: [7][200/534] Data 0.000 (0.008) Elapsed 1m 22s (remain 2m 16s) Loss: 0.5194(0.3576) Grad: 7.2386  \n",
      "Epoch: [7][300/534] Data 0.000 (0.006) Elapsed 2m 1s (remain 1m 34s) Loss: 0.2335(0.3556) Grad: 4.0136  \n",
      "Epoch: [7][400/534] Data 0.000 (0.004) Elapsed 2m 40s (remain 0m 53s) Loss: 0.2378(0.3554) Grad: 4.0663  \n",
      "Epoch: [7][500/534] Data 0.000 (0.004) Elapsed 3m 20s (remain 0m 13s) Loss: 0.3301(0.3514) Grad: 5.1713  \n",
      "Epoch: [7][533/534] Data 0.000 (0.003) Elapsed 3m 33s (remain 0m 0s) Loss: 0.3971(0.3523) Grad: 4.8656  \n",
      "EVAL: [0/134] Data 1.508 (1.508) Elapsed 0m 1s (remain 3m 41s) Loss: 0.7106(0.7106) \n",
      "EVAL: [100/134] Data 0.619 (0.169) Elapsed 0m 27s (remain 0m 8s) Loss: 0.3288(0.4249) \n"
     ]
    },
    {
     "name": "stderr",
     "output_type": "stream",
     "text": [
      "Epoch 7 - avg_train_loss: 0.3523  avg_val_loss: 0.4287  time: 249s\n",
      "Epoch 7 - Accuracy: 0.855573732180416\n"
     ]
    },
    {
     "name": "stdout",
     "output_type": "stream",
     "text": [
      "EVAL: [133/134] Data 0.000 (0.166) Elapsed 0m 35s (remain 0m 0s) Loss: 0.5145(0.4287) \n",
      "Epoch: [8][0/534] Data 1.114 (1.114) Elapsed 0m 1s (remain 13m 39s) Loss: 0.2894(0.2894) Grad: 4.8638  \n",
      "Epoch: [8][100/534] Data 0.000 (0.012) Elapsed 0m 41s (remain 2m 55s) Loss: 0.4394(0.3566) Grad: 5.8445  \n",
      "Epoch: [8][200/534] Data 0.000 (0.006) Elapsed 1m 20s (remain 2m 12s) Loss: 0.3629(0.3445) Grad: 6.7822  \n",
      "Epoch: [8][300/534] Data 0.005 (0.004) Elapsed 2m 0s (remain 1m 32s) Loss: 0.4282(0.3340) Grad: 6.7543  \n",
      "Epoch: [8][400/534] Data 0.000 (0.004) Elapsed 2m 40s (remain 0m 53s) Loss: 0.1609(0.3350) Grad: 2.9101  \n",
      "Epoch: [8][500/534] Data 0.000 (0.003) Elapsed 3m 20s (remain 0m 13s) Loss: 0.3904(0.3340) Grad: 5.5803  \n",
      "Epoch: [8][533/534] Data 0.000 (0.003) Elapsed 3m 33s (remain 0m 0s) Loss: 0.5754(0.3338) Grad: 6.7013  \n",
      "EVAL: [0/134] Data 1.145 (1.145) Elapsed 0m 1s (remain 2m 44s) Loss: 0.7507(0.7507) \n",
      "EVAL: [100/134] Data 0.376 (0.175) Elapsed 0m 27s (remain 0m 9s) Loss: 0.2833(0.4122) \n"
     ]
    },
    {
     "name": "stderr",
     "output_type": "stream",
     "text": [
      "Epoch 8 - avg_train_loss: 0.3338  avg_val_loss: 0.4146  time: 249s\n",
      "Epoch 8 - Accuracy: 0.8663239074550129\n",
      "Epoch 8 - Save Best Score: 0.8663 Model\n"
     ]
    },
    {
     "name": "stdout",
     "output_type": "stream",
     "text": [
      "EVAL: [133/134] Data 0.000 (0.167) Elapsed 0m 35s (remain 0m 0s) Loss: 0.4442(0.4146) \n",
      "Epoch: [9][0/534] Data 1.403 (1.403) Elapsed 0m 1s (remain 16m 13s) Loss: 0.2739(0.2739) Grad: 3.9590  \n",
      "Epoch: [9][100/534] Data 0.000 (0.014) Elapsed 0m 41s (remain 2m 58s) Loss: 0.3893(0.3259) Grad: 4.1434  \n",
      "Epoch: [9][200/534] Data 0.003 (0.008) Elapsed 1m 21s (remain 2m 14s) Loss: 0.2313(0.3173) Grad: 4.0295  \n",
      "Epoch: [9][300/534] Data 0.000 (0.005) Elapsed 2m 0s (remain 1m 33s) Loss: 0.3159(0.3115) Grad: 5.5148  \n",
      "Epoch: [9][400/534] Data 0.000 (0.004) Elapsed 2m 40s (remain 0m 53s) Loss: 0.2619(0.3131) Grad: 4.4252  \n",
      "Epoch: [9][500/534] Data 0.000 (0.004) Elapsed 3m 19s (remain 0m 13s) Loss: 0.2564(0.3177) Grad: 4.8309  \n",
      "Epoch: [9][533/534] Data 0.000 (0.003) Elapsed 3m 32s (remain 0m 0s) Loss: 0.3440(0.3206) Grad: 5.6312  \n",
      "EVAL: [0/134] Data 1.198 (1.198) Elapsed 0m 1s (remain 2m 52s) Loss: 0.7052(0.7052) \n",
      "EVAL: [100/134] Data 0.652 (0.176) Elapsed 0m 27s (remain 0m 9s) Loss: 0.3230(0.4020) \n"
     ]
    },
    {
     "name": "stderr",
     "output_type": "stream",
     "text": [
      "Epoch 9 - avg_train_loss: 0.3206  avg_val_loss: 0.4062  time: 247s\n",
      "Epoch 9 - Accuracy: 0.8686609020799252\n",
      "Epoch 9 - Save Best Score: 0.8687 Model\n"
     ]
    },
    {
     "name": "stdout",
     "output_type": "stream",
     "text": [
      "EVAL: [133/134] Data 0.000 (0.164) Elapsed 0m 35s (remain 0m 0s) Loss: 0.5078(0.4062) \n",
      "Epoch: [10][0/534] Data 1.414 (1.414) Elapsed 0m 1s (remain 16m 26s) Loss: 0.3260(0.3260) Grad: 4.9991  \n",
      "Epoch: [10][100/534] Data 0.004 (0.015) Elapsed 0m 41s (remain 2m 58s) Loss: 0.2788(0.3079) Grad: 4.4614  \n",
      "Epoch: [10][200/534] Data 0.000 (0.008) Elapsed 1m 21s (remain 2m 15s) Loss: 0.2522(0.3041) Grad: 3.9097  \n",
      "Epoch: [10][300/534] Data 0.000 (0.005) Elapsed 2m 0s (remain 1m 33s) Loss: 0.1524(0.2999) Grad: 4.2356  \n",
      "Epoch: [10][400/534] Data 0.000 (0.004) Elapsed 2m 40s (remain 0m 53s) Loss: 0.2481(0.2988) Grad: 4.0166  \n",
      "Epoch: [10][500/534] Data 0.000 (0.004) Elapsed 3m 19s (remain 0m 13s) Loss: 0.3350(0.3065) Grad: 6.3317  \n",
      "Epoch: [10][533/534] Data 0.000 (0.003) Elapsed 3m 32s (remain 0m 0s) Loss: 0.4394(0.3071) Grad: 4.9059  \n",
      "EVAL: [0/134] Data 1.074 (1.074) Elapsed 0m 1s (remain 2m 35s) Loss: 0.7350(0.7350) \n",
      "EVAL: [100/134] Data 0.421 (0.169) Elapsed 0m 26s (remain 0m 8s) Loss: 0.3450(0.4100) \n"
     ]
    },
    {
     "name": "stderr",
     "output_type": "stream",
     "text": [
      "Epoch 10 - avg_train_loss: 0.3071  avg_val_loss: 0.4138  time: 247s\n",
      "Epoch 10 - Accuracy: 0.8646880112175742\n",
      "========== fold: 3 result ==========\n",
      "Score: 0.86866\n",
      "========== fold: 4 training ==========\n"
     ]
    },
    {
     "name": "stdout",
     "output_type": "stream",
     "text": [
      "EVAL: [133/134] Data 0.000 (0.164) Elapsed 0m 34s (remain 0m 0s) Loss: 0.5162(0.4138) \n",
      "Epoch: [1][0/534] Data 1.304 (1.304) Elapsed 0m 1s (remain 15m 25s) Loss: 1.5405(1.5405) Grad: 8.3041  \n",
      "Epoch: [1][100/534] Data 0.000 (0.014) Elapsed 0m 42s (remain 3m 0s) Loss: 0.7869(0.8593) Grad: 8.4017  \n",
      "Epoch: [1][200/534] Data 0.000 (0.007) Elapsed 1m 21s (remain 2m 14s) Loss: 0.5866(0.7484) Grad: 8.1782  \n",
      "Epoch: [1][300/534] Data 0.000 (0.005) Elapsed 2m 1s (remain 1m 34s) Loss: 0.6017(0.6930) Grad: 7.6298  \n",
      "Epoch: [1][400/534] Data 0.000 (0.004) Elapsed 2m 40s (remain 0m 53s) Loss: 0.3109(0.6536) Grad: 3.7603  \n",
      "Epoch: [1][500/534] Data 0.000 (0.003) Elapsed 3m 20s (remain 0m 13s) Loss: 0.4710(0.6281) Grad: 5.9654  \n",
      "Epoch: [1][533/534] Data 0.000 (0.003) Elapsed 3m 33s (remain 0m 0s) Loss: 0.6604(0.6247) Grad: 6.4868  \n",
      "EVAL: [0/134] Data 1.215 (1.215) Elapsed 0m 1s (remain 2m 54s) Loss: 0.6102(0.6102) \n",
      "EVAL: [100/134] Data 0.215 (0.171) Elapsed 0m 27s (remain 0m 8s) Loss: 0.5193(0.5012) \n"
     ]
    },
    {
     "name": "stderr",
     "output_type": "stream",
     "text": [
      "Epoch 1 - avg_train_loss: 0.6247  avg_val_loss: 0.4982  time: 249s\n",
      "Epoch 1 - Accuracy: 0.8291656929189063\n",
      "Epoch 1 - Save Best Score: 0.8292 Model\n"
     ]
    },
    {
     "name": "stdout",
     "output_type": "stream",
     "text": [
      "EVAL: [133/134] Data 0.028 (0.164) Elapsed 0m 35s (remain 0m 0s) Loss: 0.4556(0.4982) \n",
      "Epoch: [2][0/534] Data 1.300 (1.300) Elapsed 0m 1s (remain 15m 14s) Loss: 0.7277(0.7277) Grad: 8.2752  \n",
      "Epoch: [2][100/534] Data 0.000 (0.014) Elapsed 0m 41s (remain 2m 56s) Loss: 0.2879(0.5161) Grad: 4.5118  \n",
      "Epoch: [2][200/534] Data 0.000 (0.007) Elapsed 1m 21s (remain 2m 14s) Loss: 0.4874(0.4938) Grad: 7.5417  \n",
      "Epoch: [2][300/534] Data 0.000 (0.005) Elapsed 2m 0s (remain 1m 33s) Loss: 0.3031(0.4893) Grad: 5.5997  \n",
      "Epoch: [2][400/534] Data 0.000 (0.004) Elapsed 2m 40s (remain 0m 53s) Loss: 0.8001(0.4871) Grad: 7.8918  \n",
      "Epoch: [2][500/534] Data 0.000 (0.003) Elapsed 3m 19s (remain 0m 13s) Loss: 0.8329(0.4800) Grad: 8.6073  \n",
      "Epoch: [2][533/534] Data 0.000 (0.003) Elapsed 3m 32s (remain 0m 0s) Loss: 0.6457(0.4838) Grad: 6.6218  \n",
      "EVAL: [0/134] Data 1.153 (1.153) Elapsed 0m 1s (remain 2m 46s) Loss: 0.5040(0.5040) \n",
      "EVAL: [100/134] Data 0.150 (0.170) Elapsed 0m 26s (remain 0m 8s) Loss: 0.4588(0.4585) \n"
     ]
    },
    {
     "name": "stderr",
     "output_type": "stream",
     "text": [
      "Epoch 2 - avg_train_loss: 0.4838  avg_val_loss: 0.4538  time: 248s\n",
      "Epoch 2 - Accuracy: 0.8401495676559944\n",
      "Epoch 2 - Save Best Score: 0.8401 Model\n"
     ]
    },
    {
     "name": "stdout",
     "output_type": "stream",
     "text": [
      "EVAL: [133/134] Data 0.000 (0.167) Elapsed 0m 35s (remain 0m 0s) Loss: 0.2546(0.4538) \n",
      "Epoch: [3][0/534] Data 1.358 (1.358) Elapsed 0m 1s (remain 15m 40s) Loss: 0.7593(0.7593) Grad: 6.2831  \n",
      "Epoch: [3][100/534] Data 0.000 (0.014) Elapsed 0m 42s (remain 3m 1s) Loss: 0.4269(0.4493) Grad: 5.4777  \n",
      "Epoch: [3][200/534] Data 0.000 (0.007) Elapsed 1m 21s (remain 2m 15s) Loss: 0.4497(0.4591) Grad: 4.5453  \n",
      "Epoch: [3][300/534] Data 0.000 (0.005) Elapsed 2m 1s (remain 1m 33s) Loss: 0.4154(0.4557) Grad: 4.5124  \n",
      "Epoch: [3][400/534] Data 0.000 (0.004) Elapsed 2m 41s (remain 0m 53s) Loss: 0.4368(0.4525) Grad: 5.1492  \n",
      "Epoch: [3][500/534] Data 0.000 (0.003) Elapsed 3m 20s (remain 0m 13s) Loss: 0.8487(0.4506) Grad: 7.6496  \n",
      "Epoch: [3][533/534] Data 0.000 (0.003) Elapsed 3m 33s (remain 0m 0s) Loss: 0.3951(0.4535) Grad: 5.1074  \n",
      "EVAL: [0/134] Data 1.168 (1.168) Elapsed 0m 1s (remain 2m 49s) Loss: 0.3834(0.3834) \n",
      "EVAL: [100/134] Data 0.572 (0.175) Elapsed 0m 27s (remain 0m 9s) Loss: 0.4660(0.4190) \n"
     ]
    },
    {
     "name": "stderr",
     "output_type": "stream",
     "text": [
      "Epoch 3 - avg_train_loss: 0.4535  avg_val_loss: 0.4179  time: 250s\n",
      "Epoch 3 - Accuracy: 0.8501986445431176\n",
      "Epoch 3 - Save Best Score: 0.8502 Model\n"
     ]
    },
    {
     "name": "stdout",
     "output_type": "stream",
     "text": [
      "EVAL: [133/134] Data 0.000 (0.168) Elapsed 0m 35s (remain 0m 0s) Loss: 0.3482(0.4179) \n",
      "Epoch: [4][0/534] Data 1.337 (1.337) Elapsed 0m 1s (remain 15m 50s) Loss: 0.2693(0.2693) Grad: 4.4026  \n",
      "Epoch: [4][100/534] Data 0.000 (0.014) Elapsed 0m 42s (remain 3m 0s) Loss: 0.3334(0.4385) Grad: 3.9144  \n",
      "Epoch: [4][200/534] Data 0.000 (0.007) Elapsed 1m 21s (remain 2m 15s) Loss: 0.3091(0.4303) Grad: 3.9751  \n",
      "Epoch: [4][300/534] Data 0.000 (0.005) Elapsed 2m 1s (remain 1m 33s) Loss: 0.5824(0.4309) Grad: 5.8031  \n",
      "Epoch: [4][400/534] Data 0.000 (0.004) Elapsed 2m 40s (remain 0m 53s) Loss: 0.3322(0.4315) Grad: 4.4257  \n",
      "Epoch: [4][500/534] Data 0.000 (0.003) Elapsed 3m 20s (remain 0m 13s) Loss: 0.6131(0.4268) Grad: 5.9716  \n",
      "Epoch: [4][533/534] Data 0.000 (0.003) Elapsed 3m 33s (remain 0m 0s) Loss: 0.5641(0.4263) Grad: 5.3403  \n",
      "EVAL: [0/134] Data 1.096 (1.096) Elapsed 0m 1s (remain 2m 39s) Loss: 0.4574(0.4574) \n",
      "EVAL: [100/134] Data 0.475 (0.165) Elapsed 0m 26s (remain 0m 8s) Loss: 0.4550(0.4072) \n"
     ]
    },
    {
     "name": "stderr",
     "output_type": "stream",
     "text": [
      "Epoch 4 - avg_train_loss: 0.4263  avg_val_loss: 0.4066  time: 249s\n",
      "Epoch 4 - Accuracy: 0.8597803225052583\n",
      "Epoch 4 - Save Best Score: 0.8598 Model\n"
     ]
    },
    {
     "name": "stdout",
     "output_type": "stream",
     "text": [
      "EVAL: [133/134] Data 0.000 (0.162) Elapsed 0m 34s (remain 0m 0s) Loss: 0.2622(0.4066) \n",
      "Epoch: [5][0/534] Data 1.720 (1.720) Elapsed 0m 2s (remain 19m 3s) Loss: 0.1817(0.1817) Grad: 2.7839  \n",
      "Epoch: [5][100/534] Data 0.000 (0.018) Elapsed 0m 41s (remain 2m 59s) Loss: 0.4450(0.4113) Grad: 4.0977  \n",
      "Epoch: [5][200/534] Data 0.000 (0.009) Elapsed 1m 21s (remain 2m 15s) Loss: 0.3918(0.4058) Grad: 4.1399  \n",
      "Epoch: [5][300/534] Data 0.000 (0.007) Elapsed 2m 0s (remain 1m 33s) Loss: 0.4130(0.4038) Grad: 5.0120  \n",
      "Epoch: [5][400/534] Data 0.000 (0.005) Elapsed 2m 41s (remain 0m 53s) Loss: 0.5202(0.4068) Grad: 5.2649  \n",
      "Epoch: [5][500/534] Data 0.000 (0.004) Elapsed 3m 20s (remain 0m 13s) Loss: 0.3129(0.4093) Grad: 3.8863  \n",
      "Epoch: [5][533/534] Data 0.000 (0.004) Elapsed 3m 33s (remain 0m 0s) Loss: 0.3241(0.4098) Grad: 4.2545  \n",
      "EVAL: [0/134] Data 1.057 (1.057) Elapsed 0m 1s (remain 2m 33s) Loss: 0.4512(0.4512) \n",
      "EVAL: [100/134] Data 0.581 (0.172) Elapsed 0m 27s (remain 0m 8s) Loss: 0.5189(0.4075) \n"
     ]
    },
    {
     "name": "stderr",
     "output_type": "stream",
     "text": [
      "Epoch 5 - avg_train_loss: 0.4098  avg_val_loss: 0.4017  time: 249s\n",
      "Epoch 5 - Accuracy: 0.8637532133676092\n",
      "Epoch 5 - Save Best Score: 0.8638 Model\n"
     ]
    },
    {
     "name": "stdout",
     "output_type": "stream",
     "text": [
      "EVAL: [133/134] Data 0.000 (0.164) Elapsed 0m 35s (remain 0m 0s) Loss: 0.2175(0.4017) \n",
      "Epoch: [6][0/534] Data 1.333 (1.333) Elapsed 0m 1s (remain 15m 32s) Loss: 0.2369(0.2369) Grad: 3.0096  \n",
      "Epoch: [6][100/534] Data 0.000 (0.014) Elapsed 0m 42s (remain 3m 0s) Loss: 0.3237(0.3850) Grad: 3.8797  \n",
      "Epoch: [6][200/534] Data 0.000 (0.007) Elapsed 1m 21s (remain 2m 14s) Loss: 0.4672(0.3675) Grad: 5.3749  \n",
      "Epoch: [6][300/534] Data 0.000 (0.005) Elapsed 2m 1s (remain 1m 33s) Loss: 0.2386(0.3739) Grad: 4.1438  \n",
      "Epoch: [6][400/534] Data 0.000 (0.004) Elapsed 2m 40s (remain 0m 53s) Loss: 0.3587(0.3861) Grad: 4.3500  \n",
      "Epoch: [6][500/534] Data 0.000 (0.003) Elapsed 3m 20s (remain 0m 13s) Loss: 0.3896(0.3817) Grad: 4.6291  \n",
      "Epoch: [6][533/534] Data 0.000 (0.003) Elapsed 3m 33s (remain 0m 0s) Loss: 0.4498(0.3804) Grad: 5.2031  \n",
      "EVAL: [0/134] Data 1.257 (1.257) Elapsed 0m 1s (remain 2m 59s) Loss: 0.4148(0.4148) \n",
      "EVAL: [100/134] Data 0.580 (0.172) Elapsed 0m 27s (remain 0m 8s) Loss: 0.3887(0.3805) \n"
     ]
    },
    {
     "name": "stderr",
     "output_type": "stream",
     "text": [
      "Epoch 6 - avg_train_loss: 0.3804  avg_val_loss: 0.3852  time: 249s\n",
      "Epoch 6 - Accuracy: 0.8700630988548727\n",
      "Epoch 6 - Save Best Score: 0.8701 Model\n"
     ]
    },
    {
     "name": "stdout",
     "output_type": "stream",
     "text": [
      "EVAL: [133/134] Data 0.000 (0.166) Elapsed 0m 35s (remain 0m 0s) Loss: 0.3337(0.3852) \n",
      "Epoch: [7][0/534] Data 1.369 (1.369) Elapsed 0m 1s (remain 15m 52s) Loss: 0.2129(0.2129) Grad: 3.0897  \n",
      "Epoch: [7][100/534] Data 0.002 (0.014) Elapsed 0m 41s (remain 2m 58s) Loss: 0.1754(0.3477) Grad: 3.1481  \n",
      "Epoch: [7][200/534] Data 0.000 (0.008) Elapsed 1m 21s (remain 2m 15s) Loss: 0.1627(0.3459) Grad: 3.7210  \n",
      "Epoch: [7][300/534] Data 0.000 (0.005) Elapsed 2m 1s (remain 1m 34s) Loss: 0.5091(0.3509) Grad: 6.9844  \n",
      "Epoch: [7][400/534] Data 0.000 (0.004) Elapsed 2m 41s (remain 0m 53s) Loss: 0.1739(0.3575) Grad: 3.9485  \n",
      "Epoch: [7][500/534] Data 0.000 (0.004) Elapsed 3m 21s (remain 0m 13s) Loss: 0.5036(0.3608) Grad: 5.7062  \n",
      "Epoch: [7][533/534] Data 0.000 (0.003) Elapsed 3m 34s (remain 0m 0s) Loss: 0.4134(0.3598) Grad: 5.9227  \n",
      "EVAL: [0/134] Data 1.124 (1.124) Elapsed 0m 1s (remain 2m 44s) Loss: 0.4375(0.4375) \n",
      "EVAL: [100/134] Data 0.633 (0.173) Elapsed 0m 27s (remain 0m 8s) Loss: 0.4186(0.3746) \n"
     ]
    },
    {
     "name": "stderr",
     "output_type": "stream",
     "text": [
      "Epoch 7 - avg_train_loss: 0.3598  avg_val_loss: 0.3755  time: 250s\n",
      "Epoch 7 - Accuracy: 0.8719326945548025\n",
      "Epoch 7 - Save Best Score: 0.8719 Model\n"
     ]
    },
    {
     "name": "stdout",
     "output_type": "stream",
     "text": [
      "EVAL: [133/134] Data 0.000 (0.164) Elapsed 0m 35s (remain 0m 0s) Loss: 0.2568(0.3755) \n",
      "Epoch: [8][0/534] Data 1.704 (1.704) Elapsed 0m 2s (remain 18m 44s) Loss: 0.2839(0.2839) Grad: 3.7477  \n",
      "Epoch: [8][100/534] Data 0.000 (0.018) Elapsed 0m 41s (remain 2m 59s) Loss: 0.1648(0.3219) Grad: 3.2309  \n",
      "Epoch: [8][200/534] Data 0.000 (0.009) Elapsed 1m 21s (remain 2m 15s) Loss: 0.3367(0.3283) Grad: 4.2190  \n",
      "Epoch: [8][300/534] Data 0.000 (0.006) Elapsed 2m 1s (remain 1m 33s) Loss: 0.2600(0.3373) Grad: 4.7728  \n",
      "Epoch: [8][400/534] Data 0.000 (0.005) Elapsed 2m 41s (remain 0m 53s) Loss: 0.1905(0.3341) Grad: 2.8717  \n",
      "Epoch: [8][500/534] Data 0.000 (0.004) Elapsed 3m 21s (remain 0m 13s) Loss: 0.1834(0.3348) Grad: 3.7007  \n",
      "Epoch: [8][533/534] Data 0.000 (0.004) Elapsed 3m 34s (remain 0m 0s) Loss: 0.1881(0.3338) Grad: 3.7176  \n",
      "EVAL: [0/134] Data 1.120 (1.120) Elapsed 0m 1s (remain 2m 42s) Loss: 0.4350(0.4350) \n",
      "EVAL: [100/134] Data 0.422 (0.176) Elapsed 0m 27s (remain 0m 9s) Loss: 0.4046(0.3713) \n"
     ]
    },
    {
     "name": "stderr",
     "output_type": "stream",
     "text": [
      "Epoch 8 - avg_train_loss: 0.3338  avg_val_loss: 0.3679  time: 250s\n",
      "Epoch 8 - Accuracy: 0.8770740827296097\n",
      "Epoch 8 - Save Best Score: 0.8771 Model\n"
     ]
    },
    {
     "name": "stdout",
     "output_type": "stream",
     "text": [
      "EVAL: [133/134] Data 0.000 (0.168) Elapsed 0m 35s (remain 0m 0s) Loss: 0.2212(0.3679) \n",
      "Epoch: [9][0/534] Data 1.395 (1.395) Elapsed 0m 1s (remain 16m 25s) Loss: 0.3037(0.3037) Grad: 4.7148  \n",
      "Epoch: [9][100/534] Data 0.000 (0.015) Elapsed 0m 42s (remain 3m 0s) Loss: 0.3901(0.3194) Grad: 5.0992  \n",
      "Epoch: [9][200/534] Data 0.000 (0.008) Elapsed 1m 21s (remain 2m 15s) Loss: 0.4813(0.3253) Grad: 7.4667  \n",
      "Epoch: [9][300/534] Data 0.000 (0.005) Elapsed 2m 1s (remain 1m 34s) Loss: 0.4149(0.3264) Grad: 6.2675  \n",
      "Epoch: [9][400/534] Data 0.002 (0.004) Elapsed 2m 41s (remain 0m 53s) Loss: 0.2188(0.3232) Grad: 4.1690  \n",
      "Epoch: [9][500/534] Data 0.000 (0.004) Elapsed 3m 21s (remain 0m 13s) Loss: 0.4526(0.3224) Grad: 5.6737  \n",
      "Epoch: [9][533/534] Data 0.000 (0.003) Elapsed 3m 33s (remain 0m 0s) Loss: 0.2211(0.3215) Grad: 3.6270  \n",
      "EVAL: [0/134] Data 1.009 (1.009) Elapsed 0m 1s (remain 2m 26s) Loss: 0.5366(0.5366) \n",
      "EVAL: [100/134] Data 0.122 (0.169) Elapsed 0m 26s (remain 0m 8s) Loss: 0.4143(0.3807) \n"
     ]
    },
    {
     "name": "stderr",
     "output_type": "stream",
     "text": [
      "Epoch 9 - avg_train_loss: 0.3215  avg_val_loss: 0.3819  time: 249s\n",
      "Epoch 9 - Accuracy: 0.8707641972423463\n"
     ]
    },
    {
     "name": "stdout",
     "output_type": "stream",
     "text": [
      "EVAL: [133/134] Data 0.065 (0.165) Elapsed 0m 35s (remain 0m 0s) Loss: 0.2816(0.3819) \n",
      "Epoch: [10][0/534] Data 1.377 (1.377) Elapsed 0m 1s (remain 16m 16s) Loss: 0.5291(0.5291) Grad: 5.2163  \n",
      "Epoch: [10][100/534] Data 0.002 (0.015) Elapsed 0m 41s (remain 2m 59s) Loss: 0.4235(0.3050) Grad: 5.8402  \n",
      "Epoch: [10][200/534] Data 0.000 (0.008) Elapsed 1m 21s (remain 2m 15s) Loss: 0.2485(0.3124) Grad: 4.5958  \n",
      "Epoch: [10][300/534] Data 0.000 (0.005) Elapsed 2m 1s (remain 1m 34s) Loss: 0.4128(0.3149) Grad: 5.7158  \n",
      "Epoch: [10][400/534] Data 0.002 (0.004) Elapsed 2m 41s (remain 0m 53s) Loss: 0.4245(0.3229) Grad: 4.9926  \n",
      "Epoch: [10][500/534] Data 0.000 (0.004) Elapsed 3m 21s (remain 0m 13s) Loss: 0.1782(0.3181) Grad: 3.4361  \n",
      "Epoch: [10][533/534] Data 0.000 (0.003) Elapsed 3m 34s (remain 0m 0s) Loss: 0.2921(0.3173) Grad: 4.8974  \n",
      "EVAL: [0/134] Data 1.249 (1.249) Elapsed 0m 1s (remain 2m 59s) Loss: 0.4527(0.4527) \n",
      "EVAL: [100/134] Data 0.637 (0.174) Elapsed 0m 27s (remain 0m 9s) Loss: 0.4214(0.3686) \n"
     ]
    },
    {
     "name": "stderr",
     "output_type": "stream",
     "text": [
      "Epoch 10 - avg_train_loss: 0.3173  avg_val_loss: 0.3688  time: 250s\n",
      "Epoch 10 - Accuracy: 0.8749707875671886\n",
      "========== fold: 4 result ==========\n"
     ]
    },
    {
     "name": "stdout",
     "output_type": "stream",
     "text": [
      "EVAL: [133/134] Data 0.000 (0.166) Elapsed 0m 35s (remain 0m 0s) Loss: 0.2871(0.3688) \n"
     ]
    },
    {
     "name": "stderr",
     "output_type": "stream",
     "text": [
      "Score: 0.87707\n",
      "========== CV ==========\n",
      "Score: 0.87550\n"
     ]
    }
   ],
   "source": [
    "if __name__ == '__main__':\n",
    "    main()"
   ]
  },
  {
   "cell_type": "code",
   "execution_count": null,
   "metadata": {
    "papermill": {
     "duration": 0.218321,
     "end_time": "2021-02-03T11:02:56.197295",
     "exception": false,
     "start_time": "2021-02-03T11:02:55.978974",
     "status": "completed"
    },
    "tags": []
   },
   "outputs": [],
   "source": []
  }
 ],
 "metadata": {
  "kernelspec": {
   "display_name": "Python 3",
   "language": "python",
   "name": "python3"
  },
  "language_info": {
   "codemirror_mode": {
    "name": "ipython",
    "version": 3
   },
   "file_extension": ".py",
   "mimetype": "text/x-python",
   "name": "python",
   "nbconvert_exporter": "python",
   "pygments_lexer": "ipython3",
   "version": "3.7.6"
  },
  "papermill": {
   "duration": 12423.095858,
   "end_time": "2021-02-03T11:02:57.992585",
   "environment_variables": {},
   "exception": null,
   "input_path": "__notebook__.ipynb",
   "output_path": "__notebook__.ipynb",
   "parameters": {},
   "start_time": "2021-02-03T07:35:54.896727",
   "version": "2.1.0"
  }
 },
 "nbformat": 4,
 "nbformat_minor": 4
}
